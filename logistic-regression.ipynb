{
 "cells": [
  {
   "cell_type": "code",
   "execution_count": 1,
   "id": "d3cab811",
   "metadata": {
    "execution": {
     "iopub.execute_input": "2023-04-07T16:34:16.029005Z",
     "iopub.status.busy": "2023-04-07T16:34:16.028621Z",
     "iopub.status.idle": "2023-04-07T16:34:16.039321Z",
     "shell.execute_reply": "2023-04-07T16:34:16.038604Z"
    },
    "papermill": {
     "duration": 0.024762,
     "end_time": "2023-04-07T16:34:16.041287",
     "exception": false,
     "start_time": "2023-04-07T16:34:16.016525",
     "status": "completed"
    },
    "tags": []
   },
   "outputs": [],
   "source": [
    "import pandas as pd \n",
    "import matplotlib.pyplot as plt\n",
    "%matplotlib inline"
   ]
  },
  {
   "cell_type": "code",
   "execution_count": 2,
   "id": "38394954",
   "metadata": {
    "execution": {
     "iopub.execute_input": "2023-04-07T16:34:16.061186Z",
     "iopub.status.busy": "2023-04-07T16:34:16.060426Z",
     "iopub.status.idle": "2023-04-07T16:34:16.121921Z",
     "shell.execute_reply": "2023-04-07T16:34:16.120770Z"
    },
    "papermill": {
     "duration": 0.074589,
     "end_time": "2023-04-07T16:34:16.125114",
     "exception": false,
     "start_time": "2023-04-07T16:34:16.050525",
     "status": "completed"
    },
    "tags": []
   },
   "outputs": [
    {
     "data": {
      "text/html": [
       "<div>\n",
       "<style scoped>\n",
       "    .dataframe tbody tr th:only-of-type {\n",
       "        vertical-align: middle;\n",
       "    }\n",
       "\n",
       "    .dataframe tbody tr th {\n",
       "        vertical-align: top;\n",
       "    }\n",
       "\n",
       "    .dataframe thead th {\n",
       "        text-align: right;\n",
       "    }\n",
       "</style>\n",
       "<table border=\"1\" class=\"dataframe\">\n",
       "  <thead>\n",
       "    <tr style=\"text-align: right;\">\n",
       "      <th></th>\n",
       "      <th>satisfaction_level</th>\n",
       "      <th>last_evaluation</th>\n",
       "      <th>number_project</th>\n",
       "      <th>average_montly_hours</th>\n",
       "      <th>time_spend_company</th>\n",
       "      <th>Work_accident</th>\n",
       "      <th>left</th>\n",
       "      <th>promotion_last_5years</th>\n",
       "      <th>Department</th>\n",
       "      <th>salary</th>\n",
       "    </tr>\n",
       "  </thead>\n",
       "  <tbody>\n",
       "    <tr>\n",
       "      <th>0</th>\n",
       "      <td>0.38</td>\n",
       "      <td>0.53</td>\n",
       "      <td>2</td>\n",
       "      <td>157</td>\n",
       "      <td>3</td>\n",
       "      <td>0</td>\n",
       "      <td>1</td>\n",
       "      <td>0</td>\n",
       "      <td>sales</td>\n",
       "      <td>low</td>\n",
       "    </tr>\n",
       "    <tr>\n",
       "      <th>1</th>\n",
       "      <td>0.80</td>\n",
       "      <td>0.86</td>\n",
       "      <td>5</td>\n",
       "      <td>262</td>\n",
       "      <td>6</td>\n",
       "      <td>0</td>\n",
       "      <td>1</td>\n",
       "      <td>0</td>\n",
       "      <td>sales</td>\n",
       "      <td>medium</td>\n",
       "    </tr>\n",
       "    <tr>\n",
       "      <th>2</th>\n",
       "      <td>0.11</td>\n",
       "      <td>0.88</td>\n",
       "      <td>7</td>\n",
       "      <td>272</td>\n",
       "      <td>4</td>\n",
       "      <td>0</td>\n",
       "      <td>1</td>\n",
       "      <td>0</td>\n",
       "      <td>sales</td>\n",
       "      <td>medium</td>\n",
       "    </tr>\n",
       "    <tr>\n",
       "      <th>3</th>\n",
       "      <td>0.72</td>\n",
       "      <td>0.87</td>\n",
       "      <td>5</td>\n",
       "      <td>223</td>\n",
       "      <td>5</td>\n",
       "      <td>0</td>\n",
       "      <td>1</td>\n",
       "      <td>0</td>\n",
       "      <td>sales</td>\n",
       "      <td>low</td>\n",
       "    </tr>\n",
       "    <tr>\n",
       "      <th>4</th>\n",
       "      <td>0.37</td>\n",
       "      <td>0.52</td>\n",
       "      <td>2</td>\n",
       "      <td>159</td>\n",
       "      <td>3</td>\n",
       "      <td>0</td>\n",
       "      <td>1</td>\n",
       "      <td>0</td>\n",
       "      <td>sales</td>\n",
       "      <td>low</td>\n",
       "    </tr>\n",
       "  </tbody>\n",
       "</table>\n",
       "</div>"
      ],
      "text/plain": [
       "   satisfaction_level  last_evaluation  number_project  average_montly_hours  \\\n",
       "0                0.38             0.53               2                   157   \n",
       "1                0.80             0.86               5                   262   \n",
       "2                0.11             0.88               7                   272   \n",
       "3                0.72             0.87               5                   223   \n",
       "4                0.37             0.52               2                   159   \n",
       "\n",
       "   time_spend_company  Work_accident  left  promotion_last_5years Department  \\\n",
       "0                   3              0     1                      0      sales   \n",
       "1                   6              0     1                      0      sales   \n",
       "2                   4              0     1                      0      sales   \n",
       "3                   5              0     1                      0      sales   \n",
       "4                   3              0     1                      0      sales   \n",
       "\n",
       "   salary  \n",
       "0     low  \n",
       "1  medium  \n",
       "2  medium  \n",
       "3     low  \n",
       "4     low  "
      ]
     },
     "execution_count": 2,
     "metadata": {},
     "output_type": "execute_result"
    }
   ],
   "source": [
    "df = pd.read_csv('/kaggle/input/hr-comma-sep/HR_comma_sep.csv')\n",
    "df.head()"
   ]
  },
  {
   "cell_type": "code",
   "execution_count": 3,
   "id": "7717eb07",
   "metadata": {
    "execution": {
     "iopub.execute_input": "2023-04-07T16:34:16.147690Z",
     "iopub.status.busy": "2023-04-07T16:34:16.147055Z",
     "iopub.status.idle": "2023-04-07T16:34:16.158616Z",
     "shell.execute_reply": "2023-04-07T16:34:16.156970Z"
    },
    "papermill": {
     "duration": 0.02611,
     "end_time": "2023-04-07T16:34:16.160904",
     "exception": false,
     "start_time": "2023-04-07T16:34:16.134794",
     "status": "completed"
    },
    "tags": []
   },
   "outputs": [
    {
     "data": {
      "text/plain": [
       "Index(['satisfaction_level', 'last_evaluation', 'number_project',\n",
       "       'average_montly_hours', 'time_spend_company', 'Work_accident', 'left',\n",
       "       'promotion_last_5years', 'Department', 'salary'],\n",
       "      dtype='object')"
      ]
     },
     "execution_count": 3,
     "metadata": {},
     "output_type": "execute_result"
    }
   ],
   "source": [
    "df.columns"
   ]
  },
  {
   "cell_type": "code",
   "execution_count": 4,
   "id": "138e3825",
   "metadata": {
    "execution": {
     "iopub.execute_input": "2023-04-07T16:34:16.183677Z",
     "iopub.status.busy": "2023-04-07T16:34:16.183033Z",
     "iopub.status.idle": "2023-04-07T16:34:17.833574Z",
     "shell.execute_reply": "2023-04-07T16:34:17.832743Z"
    },
    "papermill": {
     "duration": 1.665417,
     "end_time": "2023-04-07T16:34:17.836377",
     "exception": false,
     "start_time": "2023-04-07T16:34:16.170960",
     "status": "completed"
    },
    "tags": []
   },
   "outputs": [
    {
     "data": {
      "text/plain": [
       "<function matplotlib.pyplot.show(close=None, block=None)>"
      ]
     },
     "execution_count": 4,
     "metadata": {},
     "output_type": "execute_result"
    },
    {
     "data": {
      "image/png": "[encoded data removed]",
      "text/plain": [
       "<Figure size 2000x1000 with 7 Axes>"
      ]
     },
     "metadata": {},
     "output_type": "display_data"
    }
   ],
   "source": [
    "df[['satisfaction_level', 'last_evaluation', 'number_project',\n",
    "       'average_montly_hours', 'time_spend_company', 'Work_accident', 'left',\n",
    "       'promotion_last_5years', 'Department', 'salary']].plot(x='left',subplots=True,figsize=(20,10))\n",
    "plt.show"
   ]
  },
  {
   "cell_type": "code",
   "execution_count": 5,
   "id": "f76b9f8e",
   "metadata": {
    "execution": {
     "iopub.execute_input": "2023-04-07T16:34:17.861136Z",
     "iopub.status.busy": "2023-04-07T16:34:17.860467Z",
     "iopub.status.idle": "2023-04-07T16:34:45.965900Z",
     "shell.execute_reply": "2023-04-07T16:34:45.964754Z"
    },
    "papermill": {
     "duration": 28.120425,
     "end_time": "2023-04-07T16:34:45.968215",
     "exception": false,
     "start_time": "2023-04-07T16:34:17.847790",
     "status": "completed"
    },
    "tags": []
   },
   "outputs": [
    {
     "data": {
      "text/plain": [
       "<BarContainer object of 14999 artists>"
      ]
     },
     "execution_count": 5,
     "metadata": {},
     "output_type": "execute_result"
    },
    {
     "data": {
      "image/png": "[encoded data removed]",
      "text/plain": [
       "<Figure size 640x480 with 1 Axes>"
      ]
     },
     "metadata": {},
     "output_type": "display_data"
    }
   ],
   "source": [
    "plt.bar(df.left,df.Department)"
   ]
  },
  {
   "cell_type": "code",
   "execution_count": 6,
   "id": "9005e6d9",
   "metadata": {
    "execution": {
     "iopub.execute_input": "2023-04-07T16:34:45.993063Z",
     "iopub.status.busy": "2023-04-07T16:34:45.991942Z",
     "iopub.status.idle": "2023-04-07T16:35:13.317754Z",
     "shell.execute_reply": "2023-04-07T16:35:13.316260Z"
    },
    "papermill": {
     "duration": 27.340774,
     "end_time": "2023-04-07T16:35:13.320221",
     "exception": false,
     "start_time": "2023-04-07T16:34:45.979447",
     "status": "completed"
    },
    "tags": []
   },
   "outputs": [
    {
     "data": {
      "text/plain": [
       "<BarContainer object of 14999 artists>"
      ]
     },
     "execution_count": 6,
     "metadata": {},
     "output_type": "execute_result"
    },
    {
     "data": {
      "image/png": "[encoded data removed]",
      "text/plain": [
       "<Figure size 640x480 with 1 Axes>"
      ]
     },
     "metadata": {},
     "output_type": "display_data"
    }
   ],
   "source": [
    "plt.bar(df.Department,df.left)"
   ]
  },
  {
   "cell_type": "code",
   "execution_count": 7,
   "id": "b046b5b0",
   "metadata": {
    "execution": {
     "iopub.execute_input": "2023-04-07T16:35:13.346953Z",
     "iopub.status.busy": "2023-04-07T16:35:13.345863Z",
     "iopub.status.idle": "2023-04-07T16:35:40.328665Z",
     "shell.execute_reply": "2023-04-07T16:35:40.327435Z"
    },
    "papermill": {
     "duration": 26.998495,
     "end_time": "2023-04-07T16:35:40.331217",
     "exception": false,
     "start_time": "2023-04-07T16:35:13.332722",
     "status": "completed"
    },
    "tags": []
   },
   "outputs": [
    {
     "data": {
      "text/plain": [
       "<BarContainer object of 14999 artists>"
      ]
     },
     "execution_count": 7,
     "metadata": {},
     "output_type": "execute_result"
    },
    {
     "data": {
      "image/png": "[encoded data removed]",
      "text/plain": [
       "<Figure size 640x480 with 1 Axes>"
      ]
     },
     "metadata": {},
     "output_type": "display_data"
    }
   ],
   "source": [
    "plt.bar(df.salary,df.left)"
   ]
  },
  {
   "cell_type": "code",
   "execution_count": null,
   "id": "133bbf52",
   "metadata": {
    "papermill": {
     "duration": 0.011979,
     "end_time": "2023-04-07T16:35:40.355405",
     "exception": false,
     "start_time": "2023-04-07T16:35:40.343426",
     "status": "completed"
    },
    "tags": []
   },
   "outputs": [],
   "source": []
  },
  {
   "cell_type": "code",
   "execution_count": 8,
   "id": "b884b4c8",
   "metadata": {
    "execution": {
     "iopub.execute_input": "2023-04-07T16:35:40.381915Z",
     "iopub.status.busy": "2023-04-07T16:35:40.381503Z",
     "iopub.status.idle": "2023-04-07T16:35:40.397698Z",
     "shell.execute_reply": "2023-04-07T16:35:40.396234Z"
    },
    "papermill": {
     "duration": 0.032191,
     "end_time": "2023-04-07T16:35:40.400105",
     "exception": false,
     "start_time": "2023-04-07T16:35:40.367914",
     "status": "completed"
    },
    "tags": []
   },
   "outputs": [
    {
     "data": {
      "text/html": [
       "<div>\n",
       "<style scoped>\n",
       "    .dataframe tbody tr th:only-of-type {\n",
       "        vertical-align: middle;\n",
       "    }\n",
       "\n",
       "    .dataframe tbody tr th {\n",
       "        vertical-align: top;\n",
       "    }\n",
       "\n",
       "    .dataframe thead th {\n",
       "        text-align: right;\n",
       "    }\n",
       "</style>\n",
       "<table border=\"1\" class=\"dataframe\">\n",
       "  <thead>\n",
       "    <tr style=\"text-align: right;\">\n",
       "      <th></th>\n",
       "      <th>satisfaction_level</th>\n",
       "      <th>last_evaluation</th>\n",
       "      <th>number_project</th>\n",
       "      <th>average_montly_hours</th>\n",
       "      <th>time_spend_company</th>\n",
       "      <th>Work_accident</th>\n",
       "      <th>left</th>\n",
       "      <th>promotion_last_5years</th>\n",
       "      <th>Department</th>\n",
       "      <th>salary</th>\n",
       "    </tr>\n",
       "  </thead>\n",
       "  <tbody>\n",
       "    <tr>\n",
       "      <th>0</th>\n",
       "      <td>0.38</td>\n",
       "      <td>0.53</td>\n",
       "      <td>2</td>\n",
       "      <td>157</td>\n",
       "      <td>3</td>\n",
       "      <td>0</td>\n",
       "      <td>1</td>\n",
       "      <td>0</td>\n",
       "      <td>sales</td>\n",
       "      <td>low</td>\n",
       "    </tr>\n",
       "    <tr>\n",
       "      <th>1</th>\n",
       "      <td>0.80</td>\n",
       "      <td>0.86</td>\n",
       "      <td>5</td>\n",
       "      <td>262</td>\n",
       "      <td>6</td>\n",
       "      <td>0</td>\n",
       "      <td>1</td>\n",
       "      <td>0</td>\n",
       "      <td>sales</td>\n",
       "      <td>medium</td>\n",
       "    </tr>\n",
       "    <tr>\n",
       "      <th>2</th>\n",
       "      <td>0.11</td>\n",
       "      <td>0.88</td>\n",
       "      <td>7</td>\n",
       "      <td>272</td>\n",
       "      <td>4</td>\n",
       "      <td>0</td>\n",
       "      <td>1</td>\n",
       "      <td>0</td>\n",
       "      <td>sales</td>\n",
       "      <td>medium</td>\n",
       "    </tr>\n",
       "    <tr>\n",
       "      <th>3</th>\n",
       "      <td>0.72</td>\n",
       "      <td>0.87</td>\n",
       "      <td>5</td>\n",
       "      <td>223</td>\n",
       "      <td>5</td>\n",
       "      <td>0</td>\n",
       "      <td>1</td>\n",
       "      <td>0</td>\n",
       "      <td>sales</td>\n",
       "      <td>low</td>\n",
       "    </tr>\n",
       "    <tr>\n",
       "      <th>4</th>\n",
       "      <td>0.37</td>\n",
       "      <td>0.52</td>\n",
       "      <td>2</td>\n",
       "      <td>159</td>\n",
       "      <td>3</td>\n",
       "      <td>0</td>\n",
       "      <td>1</td>\n",
       "      <td>0</td>\n",
       "      <td>sales</td>\n",
       "      <td>low</td>\n",
       "    </tr>\n",
       "  </tbody>\n",
       "</table>\n",
       "</div>"
      ],
      "text/plain": [
       "   satisfaction_level  last_evaluation  number_project  average_montly_hours  \\\n",
       "0                0.38             0.53               2                   157   \n",
       "1                0.80             0.86               5                   262   \n",
       "2                0.11             0.88               7                   272   \n",
       "3                0.72             0.87               5                   223   \n",
       "4                0.37             0.52               2                   159   \n",
       "\n",
       "   time_spend_company  Work_accident  left  promotion_last_5years Department  \\\n",
       "0                   3              0     1                      0      sales   \n",
       "1                   6              0     1                      0      sales   \n",
       "2                   4              0     1                      0      sales   \n",
       "3                   5              0     1                      0      sales   \n",
       "4                   3              0     1                      0      sales   \n",
       "\n",
       "   salary  \n",
       "0     low  \n",
       "1  medium  \n",
       "2  medium  \n",
       "3     low  \n",
       "4     low  "
      ]
     },
     "execution_count": 8,
     "metadata": {},
     "output_type": "execute_result"
    }
   ],
   "source": [
    "df.head()"
   ]
  },
  {
   "cell_type": "code",
   "execution_count": 9,
   "id": "56bc46a9",
   "metadata": {
    "execution": {
     "iopub.execute_input": "2023-04-07T16:35:40.426549Z",
     "iopub.status.busy": "2023-04-07T16:35:40.426138Z",
     "iopub.status.idle": "2023-04-07T16:35:40.447168Z",
     "shell.execute_reply": "2023-04-07T16:35:40.446064Z"
    },
    "papermill": {
     "duration": 0.036778,
     "end_time": "2023-04-07T16:35:40.449305",
     "exception": false,
     "start_time": "2023-04-07T16:35:40.412527",
     "status": "completed"
    },
    "tags": []
   },
   "outputs": [
    {
     "data": {
      "text/html": [
       "<div>\n",
       "<style scoped>\n",
       "    .dataframe tbody tr th:only-of-type {\n",
       "        vertical-align: middle;\n",
       "    }\n",
       "\n",
       "    .dataframe tbody tr th {\n",
       "        vertical-align: top;\n",
       "    }\n",
       "\n",
       "    .dataframe thead th {\n",
       "        text-align: right;\n",
       "    }\n",
       "</style>\n",
       "<table border=\"1\" class=\"dataframe\">\n",
       "  <thead>\n",
       "    <tr style=\"text-align: right;\">\n",
       "      <th></th>\n",
       "      <th>satisfaction_level</th>\n",
       "      <th>last_evaluation</th>\n",
       "      <th>number_project</th>\n",
       "      <th>average_montly_hours</th>\n",
       "      <th>time_spend_company</th>\n",
       "      <th>Work_accident</th>\n",
       "      <th>left</th>\n",
       "      <th>promotion_last_5years</th>\n",
       "      <th>Department</th>\n",
       "      <th>salary</th>\n",
       "    </tr>\n",
       "  </thead>\n",
       "  <tbody>\n",
       "    <tr>\n",
       "      <th>0</th>\n",
       "      <td>0.38</td>\n",
       "      <td>0.53</td>\n",
       "      <td>2</td>\n",
       "      <td>157</td>\n",
       "      <td>3</td>\n",
       "      <td>0</td>\n",
       "      <td>1</td>\n",
       "      <td>0</td>\n",
       "      <td>sales</td>\n",
       "      <td>low</td>\n",
       "    </tr>\n",
       "    <tr>\n",
       "      <th>1</th>\n",
       "      <td>0.80</td>\n",
       "      <td>0.86</td>\n",
       "      <td>5</td>\n",
       "      <td>262</td>\n",
       "      <td>6</td>\n",
       "      <td>0</td>\n",
       "      <td>1</td>\n",
       "      <td>0</td>\n",
       "      <td>sales</td>\n",
       "      <td>medium</td>\n",
       "    </tr>\n",
       "    <tr>\n",
       "      <th>2</th>\n",
       "      <td>0.11</td>\n",
       "      <td>0.88</td>\n",
       "      <td>7</td>\n",
       "      <td>272</td>\n",
       "      <td>4</td>\n",
       "      <td>0</td>\n",
       "      <td>1</td>\n",
       "      <td>0</td>\n",
       "      <td>sales</td>\n",
       "      <td>medium</td>\n",
       "    </tr>\n",
       "    <tr>\n",
       "      <th>3</th>\n",
       "      <td>0.72</td>\n",
       "      <td>0.87</td>\n",
       "      <td>5</td>\n",
       "      <td>223</td>\n",
       "      <td>5</td>\n",
       "      <td>0</td>\n",
       "      <td>1</td>\n",
       "      <td>0</td>\n",
       "      <td>sales</td>\n",
       "      <td>low</td>\n",
       "    </tr>\n",
       "    <tr>\n",
       "      <th>4</th>\n",
       "      <td>0.37</td>\n",
       "      <td>0.52</td>\n",
       "      <td>2</td>\n",
       "      <td>159</td>\n",
       "      <td>3</td>\n",
       "      <td>0</td>\n",
       "      <td>1</td>\n",
       "      <td>0</td>\n",
       "      <td>sales</td>\n",
       "      <td>low</td>\n",
       "    </tr>\n",
       "    <tr>\n",
       "      <th>...</th>\n",
       "      <td>...</td>\n",
       "      <td>...</td>\n",
       "      <td>...</td>\n",
       "      <td>...</td>\n",
       "      <td>...</td>\n",
       "      <td>...</td>\n",
       "      <td>...</td>\n",
       "      <td>...</td>\n",
       "      <td>...</td>\n",
       "      <td>...</td>\n",
       "    </tr>\n",
       "    <tr>\n",
       "      <th>14994</th>\n",
       "      <td>0.40</td>\n",
       "      <td>0.57</td>\n",
       "      <td>2</td>\n",
       "      <td>151</td>\n",
       "      <td>3</td>\n",
       "      <td>0</td>\n",
       "      <td>1</td>\n",
       "      <td>0</td>\n",
       "      <td>support</td>\n",
       "      <td>low</td>\n",
       "    </tr>\n",
       "    <tr>\n",
       "      <th>14995</th>\n",
       "      <td>0.37</td>\n",
       "      <td>0.48</td>\n",
       "      <td>2</td>\n",
       "      <td>160</td>\n",
       "      <td>3</td>\n",
       "      <td>0</td>\n",
       "      <td>1</td>\n",
       "      <td>0</td>\n",
       "      <td>support</td>\n",
       "      <td>low</td>\n",
       "    </tr>\n",
       "    <tr>\n",
       "      <th>14996</th>\n",
       "      <td>0.37</td>\n",
       "      <td>0.53</td>\n",
       "      <td>2</td>\n",
       "      <td>143</td>\n",
       "      <td>3</td>\n",
       "      <td>0</td>\n",
       "      <td>1</td>\n",
       "      <td>0</td>\n",
       "      <td>support</td>\n",
       "      <td>low</td>\n",
       "    </tr>\n",
       "    <tr>\n",
       "      <th>14997</th>\n",
       "      <td>0.11</td>\n",
       "      <td>0.96</td>\n",
       "      <td>6</td>\n",
       "      <td>280</td>\n",
       "      <td>4</td>\n",
       "      <td>0</td>\n",
       "      <td>1</td>\n",
       "      <td>0</td>\n",
       "      <td>support</td>\n",
       "      <td>low</td>\n",
       "    </tr>\n",
       "    <tr>\n",
       "      <th>14998</th>\n",
       "      <td>0.37</td>\n",
       "      <td>0.52</td>\n",
       "      <td>2</td>\n",
       "      <td>158</td>\n",
       "      <td>3</td>\n",
       "      <td>0</td>\n",
       "      <td>1</td>\n",
       "      <td>0</td>\n",
       "      <td>support</td>\n",
       "      <td>low</td>\n",
       "    </tr>\n",
       "  </tbody>\n",
       "</table>\n",
       "<p>3571 rows × 10 columns</p>\n",
       "</div>"
      ],
      "text/plain": [
       "       satisfaction_level  last_evaluation  number_project  \\\n",
       "0                    0.38             0.53               2   \n",
       "1                    0.80             0.86               5   \n",
       "2                    0.11             0.88               7   \n",
       "3                    0.72             0.87               5   \n",
       "4                    0.37             0.52               2   \n",
       "...                   ...              ...             ...   \n",
       "14994                0.40             0.57               2   \n",
       "14995                0.37             0.48               2   \n",
       "14996                0.37             0.53               2   \n",
       "14997                0.11             0.96               6   \n",
       "14998                0.37             0.52               2   \n",
       "\n",
       "       average_montly_hours  time_spend_company  Work_accident  left  \\\n",
       "0                       157                   3              0     1   \n",
       "1                       262                   6              0     1   \n",
       "2                       272                   4              0     1   \n",
       "3                       223                   5              0     1   \n",
       "4                       159                   3              0     1   \n",
       "...                     ...                 ...            ...   ...   \n",
       "14994                   151                   3              0     1   \n",
       "14995                   160                   3              0     1   \n",
       "14996                   143                   3              0     1   \n",
       "14997                   280                   4              0     1   \n",
       "14998                   158                   3              0     1   \n",
       "\n",
       "       promotion_last_5years Department  salary  \n",
       "0                          0      sales     low  \n",
       "1                          0      sales  medium  \n",
       "2                          0      sales  medium  \n",
       "3                          0      sales     low  \n",
       "4                          0      sales     low  \n",
       "...                      ...        ...     ...  \n",
       "14994                      0    support     low  \n",
       "14995                      0    support     low  \n",
       "14996                      0    support     low  \n",
       "14997                      0    support     low  \n",
       "14998                      0    support     low  \n",
       "\n",
       "[3571 rows x 10 columns]"
      ]
     },
     "execution_count": 9,
     "metadata": {},
     "output_type": "execute_result"
    }
   ],
   "source": [
    "left = df[df.left==1]\n",
    "left"
   ]
  },
  {
   "cell_type": "code",
   "execution_count": 10,
   "id": "0ab2b5fc",
   "metadata": {
    "execution": {
     "iopub.execute_input": "2023-04-07T16:35:40.476954Z",
     "iopub.status.busy": "2023-04-07T16:35:40.476532Z",
     "iopub.status.idle": "2023-04-07T16:35:40.482902Z",
     "shell.execute_reply": "2023-04-07T16:35:40.481839Z"
    },
    "papermill": {
     "duration": 0.02289,
     "end_time": "2023-04-07T16:35:40.484942",
     "exception": false,
     "start_time": "2023-04-07T16:35:40.462052",
     "status": "completed"
    },
    "tags": []
   },
   "outputs": [],
   "source": [
    "stayed=df[df.left==0]\n"
   ]
  },
  {
   "cell_type": "code",
   "execution_count": 11,
   "id": "e7aa419e",
   "metadata": {
    "execution": {
     "iopub.execute_input": "2023-04-07T16:35:40.511644Z",
     "iopub.status.busy": "2023-04-07T16:35:40.511248Z",
     "iopub.status.idle": "2023-04-07T16:35:40.528776Z",
     "shell.execute_reply": "2023-04-07T16:35:40.528029Z"
    },
    "papermill": {
     "duration": 0.033517,
     "end_time": "2023-04-07T16:35:40.530974",
     "exception": false,
     "start_time": "2023-04-07T16:35:40.497457",
     "status": "completed"
    },
    "tags": []
   },
   "outputs": [
    {
     "data": {
      "text/html": [
       "<div>\n",
       "<style scoped>\n",
       "    .dataframe tbody tr th:only-of-type {\n",
       "        vertical-align: middle;\n",
       "    }\n",
       "\n",
       "    .dataframe tbody tr th {\n",
       "        vertical-align: top;\n",
       "    }\n",
       "\n",
       "    .dataframe thead th {\n",
       "        text-align: right;\n",
       "    }\n",
       "</style>\n",
       "<table border=\"1\" class=\"dataframe\">\n",
       "  <thead>\n",
       "    <tr style=\"text-align: right;\">\n",
       "      <th></th>\n",
       "      <th>satisfaction_level</th>\n",
       "      <th>last_evaluation</th>\n",
       "      <th>number_project</th>\n",
       "      <th>average_montly_hours</th>\n",
       "      <th>time_spend_company</th>\n",
       "      <th>Work_accident</th>\n",
       "      <th>promotion_last_5years</th>\n",
       "    </tr>\n",
       "    <tr>\n",
       "      <th>left</th>\n",
       "      <th></th>\n",
       "      <th></th>\n",
       "      <th></th>\n",
       "      <th></th>\n",
       "      <th></th>\n",
       "      <th></th>\n",
       "      <th></th>\n",
       "    </tr>\n",
       "  </thead>\n",
       "  <tbody>\n",
       "    <tr>\n",
       "      <th>0</th>\n",
       "      <td>0.666810</td>\n",
       "      <td>0.715473</td>\n",
       "      <td>3.786664</td>\n",
       "      <td>199.060203</td>\n",
       "      <td>3.380032</td>\n",
       "      <td>0.175009</td>\n",
       "      <td>0.026251</td>\n",
       "    </tr>\n",
       "    <tr>\n",
       "      <th>1</th>\n",
       "      <td>0.440098</td>\n",
       "      <td>0.718113</td>\n",
       "      <td>3.855503</td>\n",
       "      <td>207.419210</td>\n",
       "      <td>3.876505</td>\n",
       "      <td>0.047326</td>\n",
       "      <td>0.005321</td>\n",
       "    </tr>\n",
       "  </tbody>\n",
       "</table>\n",
       "</div>"
      ],
      "text/plain": [
       "      satisfaction_level  last_evaluation  number_project  \\\n",
       "left                                                        \n",
       "0               0.666810         0.715473        3.786664   \n",
       "1               0.440098         0.718113        3.855503   \n",
       "\n",
       "      average_montly_hours  time_spend_company  Work_accident  \\\n",
       "left                                                            \n",
       "0               199.060203            3.380032       0.175009   \n",
       "1               207.419210            3.876505       0.047326   \n",
       "\n",
       "      promotion_last_5years  \n",
       "left                         \n",
       "0                  0.026251  \n",
       "1                  0.005321  "
      ]
     },
     "execution_count": 11,
     "metadata": {},
     "output_type": "execute_result"
    }
   ],
   "source": [
    "df.groupby('left').mean()"
   ]
  },
  {
   "cell_type": "code",
   "execution_count": 12,
   "id": "fe74e9ba",
   "metadata": {
    "execution": {
     "iopub.execute_input": "2023-04-07T16:35:40.558691Z",
     "iopub.status.busy": "2023-04-07T16:35:40.558275Z",
     "iopub.status.idle": "2023-04-07T16:35:40.800185Z",
     "shell.execute_reply": "2023-04-07T16:35:40.799354Z"
    },
    "papermill": {
     "duration": 0.258523,
     "end_time": "2023-04-07T16:35:40.802347",
     "exception": false,
     "start_time": "2023-04-07T16:35:40.543824",
     "status": "completed"
    },
    "tags": []
   },
   "outputs": [
    {
     "data": {
      "text/plain": [
       "<AxesSubplot:xlabel='salary'>"
      ]
     },
     "execution_count": 12,
     "metadata": {},
     "output_type": "execute_result"
    },
    {
     "data": {
      "image/png": "[encoded data removed]",
      "text/plain": [
       "<Figure size 640x480 with 1 Axes>"
      ]
     },
     "metadata": {},
     "output_type": "display_data"
    }
   ],
   "source": [
    "pd.crosstab(df.salary,df.left).plot(kind='bar')"
   ]
  },
  {
   "cell_type": "code",
   "execution_count": 13,
   "id": "959cbfc4",
   "metadata": {
    "execution": {
     "iopub.execute_input": "2023-04-07T16:35:40.831532Z",
     "iopub.status.busy": "2023-04-07T16:35:40.830548Z",
     "iopub.status.idle": "2023-04-07T16:35:41.154534Z",
     "shell.execute_reply": "2023-04-07T16:35:41.153278Z"
    },
    "papermill": {
     "duration": 0.341377,
     "end_time": "2023-04-07T16:35:41.157170",
     "exception": false,
     "start_time": "2023-04-07T16:35:40.815793",
     "status": "completed"
    },
    "tags": []
   },
   "outputs": [
    {
     "data": {
      "text/plain": [
       "<AxesSubplot:xlabel='Department'>"
      ]
     },
     "execution_count": 13,
     "metadata": {},
     "output_type": "execute_result"
    },
    {
     "data": {
      "image/png": "[encoded data removed]",
      "text/plain": [
       "<Figure size 640x480 with 1 Axes>"
      ]
     },
     "metadata": {},
     "output_type": "display_data"
    }
   ],
   "source": [
    "pd.crosstab(df.Department,df.left).plot(kind='bar')"
   ]
  },
  {
   "cell_type": "code",
   "execution_count": 14,
   "id": "dc4a6ad1",
   "metadata": {
    "execution": {
     "iopub.execute_input": "2023-04-07T16:35:41.187391Z",
     "iopub.status.busy": "2023-04-07T16:35:41.186976Z",
     "iopub.status.idle": "2023-04-07T16:35:41.193868Z",
     "shell.execute_reply": "2023-04-07T16:35:41.192729Z"
    },
    "papermill": {
     "duration": 0.025859,
     "end_time": "2023-04-07T16:35:41.197172",
     "exception": false,
     "start_time": "2023-04-07T16:35:41.171313",
     "status": "completed"
    },
    "tags": []
   },
   "outputs": [
    {
     "data": {
      "text/plain": [
       "Index(['satisfaction_level', 'last_evaluation', 'number_project',\n",
       "       'average_montly_hours', 'time_spend_company', 'Work_accident', 'left',\n",
       "       'promotion_last_5years', 'Department', 'salary'],\n",
       "      dtype='object')"
      ]
     },
     "execution_count": 14,
     "metadata": {},
     "output_type": "execute_result"
    }
   ],
   "source": [
    "df.columns"
   ]
  },
  {
   "cell_type": "code",
   "execution_count": 15,
   "id": "dd404616",
   "metadata": {
    "execution": {
     "iopub.execute_input": "2023-04-07T16:35:41.227846Z",
     "iopub.status.busy": "2023-04-07T16:35:41.227029Z",
     "iopub.status.idle": "2023-04-07T16:35:41.242844Z",
     "shell.execute_reply": "2023-04-07T16:35:41.241696Z"
    },
    "papermill": {
     "duration": 0.033966,
     "end_time": "2023-04-07T16:35:41.245246",
     "exception": false,
     "start_time": "2023-04-07T16:35:41.211280",
     "status": "completed"
    },
    "tags": []
   },
   "outputs": [
    {
     "data": {
      "text/html": [
       "<div>\n",
       "<style scoped>\n",
       "    .dataframe tbody tr th:only-of-type {\n",
       "        vertical-align: middle;\n",
       "    }\n",
       "\n",
       "    .dataframe tbody tr th {\n",
       "        vertical-align: top;\n",
       "    }\n",
       "\n",
       "    .dataframe thead th {\n",
       "        text-align: right;\n",
       "    }\n",
       "</style>\n",
       "<table border=\"1\" class=\"dataframe\">\n",
       "  <thead>\n",
       "    <tr style=\"text-align: right;\">\n",
       "      <th></th>\n",
       "      <th>satisfaction_level</th>\n",
       "      <th>average_montly_hours</th>\n",
       "      <th>promotion_last_5years</th>\n",
       "      <th>salary</th>\n",
       "    </tr>\n",
       "  </thead>\n",
       "  <tbody>\n",
       "    <tr>\n",
       "      <th>0</th>\n",
       "      <td>0.38</td>\n",
       "      <td>157</td>\n",
       "      <td>0</td>\n",
       "      <td>low</td>\n",
       "    </tr>\n",
       "    <tr>\n",
       "      <th>1</th>\n",
       "      <td>0.80</td>\n",
       "      <td>262</td>\n",
       "      <td>0</td>\n",
       "      <td>medium</td>\n",
       "    </tr>\n",
       "    <tr>\n",
       "      <th>2</th>\n",
       "      <td>0.11</td>\n",
       "      <td>272</td>\n",
       "      <td>0</td>\n",
       "      <td>medium</td>\n",
       "    </tr>\n",
       "    <tr>\n",
       "      <th>3</th>\n",
       "      <td>0.72</td>\n",
       "      <td>223</td>\n",
       "      <td>0</td>\n",
       "      <td>low</td>\n",
       "    </tr>\n",
       "    <tr>\n",
       "      <th>4</th>\n",
       "      <td>0.37</td>\n",
       "      <td>159</td>\n",
       "      <td>0</td>\n",
       "      <td>low</td>\n",
       "    </tr>\n",
       "    <tr>\n",
       "      <th>...</th>\n",
       "      <td>...</td>\n",
       "      <td>...</td>\n",
       "      <td>...</td>\n",
       "      <td>...</td>\n",
       "    </tr>\n",
       "    <tr>\n",
       "      <th>14994</th>\n",
       "      <td>0.40</td>\n",
       "      <td>151</td>\n",
       "      <td>0</td>\n",
       "      <td>low</td>\n",
       "    </tr>\n",
       "    <tr>\n",
       "      <th>14995</th>\n",
       "      <td>0.37</td>\n",
       "      <td>160</td>\n",
       "      <td>0</td>\n",
       "      <td>low</td>\n",
       "    </tr>\n",
       "    <tr>\n",
       "      <th>14996</th>\n",
       "      <td>0.37</td>\n",
       "      <td>143</td>\n",
       "      <td>0</td>\n",
       "      <td>low</td>\n",
       "    </tr>\n",
       "    <tr>\n",
       "      <th>14997</th>\n",
       "      <td>0.11</td>\n",
       "      <td>280</td>\n",
       "      <td>0</td>\n",
       "      <td>low</td>\n",
       "    </tr>\n",
       "    <tr>\n",
       "      <th>14998</th>\n",
       "      <td>0.37</td>\n",
       "      <td>158</td>\n",
       "      <td>0</td>\n",
       "      <td>low</td>\n",
       "    </tr>\n",
       "  </tbody>\n",
       "</table>\n",
       "<p>14999 rows × 4 columns</p>\n",
       "</div>"
      ],
      "text/plain": [
       "       satisfaction_level  average_montly_hours  promotion_last_5years  salary\n",
       "0                    0.38                   157                      0     low\n",
       "1                    0.80                   262                      0  medium\n",
       "2                    0.11                   272                      0  medium\n",
       "3                    0.72                   223                      0     low\n",
       "4                    0.37                   159                      0     low\n",
       "...                   ...                   ...                    ...     ...\n",
       "14994                0.40                   151                      0     low\n",
       "14995                0.37                   160                      0     low\n",
       "14996                0.37                   143                      0     low\n",
       "14997                0.11                   280                      0     low\n",
       "14998                0.37                   158                      0     low\n",
       "\n",
       "[14999 rows x 4 columns]"
      ]
     },
     "execution_count": 15,
     "metadata": {},
     "output_type": "execute_result"
    }
   ],
   "source": [
    "df_1=df[['satisfaction_level','average_montly_hours','promotion_last_5years','salary']]\n",
    "df_1"
   ]
  },
  {
   "cell_type": "code",
   "execution_count": 16,
   "id": "83bf2275",
   "metadata": {
    "execution": {
     "iopub.execute_input": "2023-04-07T16:35:41.277465Z",
     "iopub.status.busy": "2023-04-07T16:35:41.276667Z",
     "iopub.status.idle": "2023-04-07T16:35:41.291469Z",
     "shell.execute_reply": "2023-04-07T16:35:41.290392Z"
    },
    "papermill": {
     "duration": 0.033493,
     "end_time": "2023-04-07T16:35:41.293889",
     "exception": false,
     "start_time": "2023-04-07T16:35:41.260396",
     "status": "completed"
    },
    "tags": []
   },
   "outputs": [
    {
     "data": {
      "text/html": [
       "<div>\n",
       "<style scoped>\n",
       "    .dataframe tbody tr th:only-of-type {\n",
       "        vertical-align: middle;\n",
       "    }\n",
       "\n",
       "    .dataframe tbody tr th {\n",
       "        vertical-align: top;\n",
       "    }\n",
       "\n",
       "    .dataframe thead th {\n",
       "        text-align: right;\n",
       "    }\n",
       "</style>\n",
       "<table border=\"1\" class=\"dataframe\">\n",
       "  <thead>\n",
       "    <tr style=\"text-align: right;\">\n",
       "      <th></th>\n",
       "      <th>high</th>\n",
       "      <th>low</th>\n",
       "      <th>medium</th>\n",
       "    </tr>\n",
       "  </thead>\n",
       "  <tbody>\n",
       "    <tr>\n",
       "      <th>0</th>\n",
       "      <td>0</td>\n",
       "      <td>1</td>\n",
       "      <td>0</td>\n",
       "    </tr>\n",
       "    <tr>\n",
       "      <th>1</th>\n",
       "      <td>0</td>\n",
       "      <td>0</td>\n",
       "      <td>1</td>\n",
       "    </tr>\n",
       "    <tr>\n",
       "      <th>2</th>\n",
       "      <td>0</td>\n",
       "      <td>0</td>\n",
       "      <td>1</td>\n",
       "    </tr>\n",
       "    <tr>\n",
       "      <th>3</th>\n",
       "      <td>0</td>\n",
       "      <td>1</td>\n",
       "      <td>0</td>\n",
       "    </tr>\n",
       "    <tr>\n",
       "      <th>4</th>\n",
       "      <td>0</td>\n",
       "      <td>1</td>\n",
       "      <td>0</td>\n",
       "    </tr>\n",
       "    <tr>\n",
       "      <th>...</th>\n",
       "      <td>...</td>\n",
       "      <td>...</td>\n",
       "      <td>...</td>\n",
       "    </tr>\n",
       "    <tr>\n",
       "      <th>14994</th>\n",
       "      <td>0</td>\n",
       "      <td>1</td>\n",
       "      <td>0</td>\n",
       "    </tr>\n",
       "    <tr>\n",
       "      <th>14995</th>\n",
       "      <td>0</td>\n",
       "      <td>1</td>\n",
       "      <td>0</td>\n",
       "    </tr>\n",
       "    <tr>\n",
       "      <th>14996</th>\n",
       "      <td>0</td>\n",
       "      <td>1</td>\n",
       "      <td>0</td>\n",
       "    </tr>\n",
       "    <tr>\n",
       "      <th>14997</th>\n",
       "      <td>0</td>\n",
       "      <td>1</td>\n",
       "      <td>0</td>\n",
       "    </tr>\n",
       "    <tr>\n",
       "      <th>14998</th>\n",
       "      <td>0</td>\n",
       "      <td>1</td>\n",
       "      <td>0</td>\n",
       "    </tr>\n",
       "  </tbody>\n",
       "</table>\n",
       "<p>14999 rows × 3 columns</p>\n",
       "</div>"
      ],
      "text/plain": [
       "       high  low  medium\n",
       "0         0    1       0\n",
       "1         0    0       1\n",
       "2         0    0       1\n",
       "3         0    1       0\n",
       "4         0    1       0\n",
       "...     ...  ...     ...\n",
       "14994     0    1       0\n",
       "14995     0    1       0\n",
       "14996     0    1       0\n",
       "14997     0    1       0\n",
       "14998     0    1       0\n",
       "\n",
       "[14999 rows x 3 columns]"
      ]
     },
     "execution_count": 16,
     "metadata": {},
     "output_type": "execute_result"
    }
   ],
   "source": [
    "salary_dummies=pd.get_dummies(df.salary)\n",
    "salary_dummies"
   ]
  },
  {
   "cell_type": "code",
   "execution_count": 17,
   "id": "6fbae1fb",
   "metadata": {
    "execution": {
     "iopub.execute_input": "2023-04-07T16:35:41.325477Z",
     "iopub.status.busy": "2023-04-07T16:35:41.324751Z",
     "iopub.status.idle": "2023-04-07T16:35:41.338966Z",
     "shell.execute_reply": "2023-04-07T16:35:41.337742Z"
    },
    "papermill": {
     "duration": 0.032549,
     "end_time": "2023-04-07T16:35:41.341259",
     "exception": false,
     "start_time": "2023-04-07T16:35:41.308710",
     "status": "completed"
    },
    "tags": []
   },
   "outputs": [
    {
     "data": {
      "text/html": [
       "<div>\n",
       "<style scoped>\n",
       "    .dataframe tbody tr th:only-of-type {\n",
       "        vertical-align: middle;\n",
       "    }\n",
       "\n",
       "    .dataframe tbody tr th {\n",
       "        vertical-align: top;\n",
       "    }\n",
       "\n",
       "    .dataframe thead th {\n",
       "        text-align: right;\n",
       "    }\n",
       "</style>\n",
       "<table border=\"1\" class=\"dataframe\">\n",
       "  <thead>\n",
       "    <tr style=\"text-align: right;\">\n",
       "      <th></th>\n",
       "      <th>satisfaction_level</th>\n",
       "      <th>average_montly_hours</th>\n",
       "      <th>promotion_last_5years</th>\n",
       "      <th>salary</th>\n",
       "      <th>high</th>\n",
       "      <th>low</th>\n",
       "      <th>medium</th>\n",
       "    </tr>\n",
       "  </thead>\n",
       "  <tbody>\n",
       "    <tr>\n",
       "      <th>0</th>\n",
       "      <td>0.38</td>\n",
       "      <td>157</td>\n",
       "      <td>0</td>\n",
       "      <td>low</td>\n",
       "      <td>0</td>\n",
       "      <td>1</td>\n",
       "      <td>0</td>\n",
       "    </tr>\n",
       "    <tr>\n",
       "      <th>1</th>\n",
       "      <td>0.80</td>\n",
       "      <td>262</td>\n",
       "      <td>0</td>\n",
       "      <td>medium</td>\n",
       "      <td>0</td>\n",
       "      <td>0</td>\n",
       "      <td>1</td>\n",
       "    </tr>\n",
       "    <tr>\n",
       "      <th>2</th>\n",
       "      <td>0.11</td>\n",
       "      <td>272</td>\n",
       "      <td>0</td>\n",
       "      <td>medium</td>\n",
       "      <td>0</td>\n",
       "      <td>0</td>\n",
       "      <td>1</td>\n",
       "    </tr>\n",
       "    <tr>\n",
       "      <th>3</th>\n",
       "      <td>0.72</td>\n",
       "      <td>223</td>\n",
       "      <td>0</td>\n",
       "      <td>low</td>\n",
       "      <td>0</td>\n",
       "      <td>1</td>\n",
       "      <td>0</td>\n",
       "    </tr>\n",
       "    <tr>\n",
       "      <th>4</th>\n",
       "      <td>0.37</td>\n",
       "      <td>159</td>\n",
       "      <td>0</td>\n",
       "      <td>low</td>\n",
       "      <td>0</td>\n",
       "      <td>1</td>\n",
       "      <td>0</td>\n",
       "    </tr>\n",
       "  </tbody>\n",
       "</table>\n",
       "</div>"
      ],
      "text/plain": [
       "   satisfaction_level  average_montly_hours  promotion_last_5years  salary  \\\n",
       "0                0.38                   157                      0     low   \n",
       "1                0.80                   262                      0  medium   \n",
       "2                0.11                   272                      0  medium   \n",
       "3                0.72                   223                      0     low   \n",
       "4                0.37                   159                      0     low   \n",
       "\n",
       "   high  low  medium  \n",
       "0     0    1       0  \n",
       "1     0    0       1  \n",
       "2     0    0       1  \n",
       "3     0    1       0  \n",
       "4     0    1       0  "
      ]
     },
     "execution_count": 17,
     "metadata": {},
     "output_type": "execute_result"
    }
   ],
   "source": [
    "merged=pd.concat([df_1,salary_dummies],axis='columns')\n",
    "merged.head()"
   ]
  },
  {
   "cell_type": "code",
   "execution_count": 18,
   "id": "1e32d02d",
   "metadata": {
    "execution": {
     "iopub.execute_input": "2023-04-07T16:35:41.373392Z",
     "iopub.status.busy": "2023-04-07T16:35:41.373019Z",
     "iopub.status.idle": "2023-04-07T16:35:41.388681Z",
     "shell.execute_reply": "2023-04-07T16:35:41.387499Z"
    },
    "papermill": {
     "duration": 0.034507,
     "end_time": "2023-04-07T16:35:41.390932",
     "exception": false,
     "start_time": "2023-04-07T16:35:41.356425",
     "status": "completed"
    },
    "tags": []
   },
   "outputs": [
    {
     "data": {
      "text/html": [
       "<div>\n",
       "<style scoped>\n",
       "    .dataframe tbody tr th:only-of-type {\n",
       "        vertical-align: middle;\n",
       "    }\n",
       "\n",
       "    .dataframe tbody tr th {\n",
       "        vertical-align: top;\n",
       "    }\n",
       "\n",
       "    .dataframe thead th {\n",
       "        text-align: right;\n",
       "    }\n",
       "</style>\n",
       "<table border=\"1\" class=\"dataframe\">\n",
       "  <thead>\n",
       "    <tr style=\"text-align: right;\">\n",
       "      <th></th>\n",
       "      <th>satisfaction_level</th>\n",
       "      <th>average_montly_hours</th>\n",
       "      <th>promotion_last_5years</th>\n",
       "      <th>low</th>\n",
       "      <th>medium</th>\n",
       "    </tr>\n",
       "  </thead>\n",
       "  <tbody>\n",
       "    <tr>\n",
       "      <th>0</th>\n",
       "      <td>0.38</td>\n",
       "      <td>157</td>\n",
       "      <td>0</td>\n",
       "      <td>1</td>\n",
       "      <td>0</td>\n",
       "    </tr>\n",
       "    <tr>\n",
       "      <th>1</th>\n",
       "      <td>0.80</td>\n",
       "      <td>262</td>\n",
       "      <td>0</td>\n",
       "      <td>0</td>\n",
       "      <td>1</td>\n",
       "    </tr>\n",
       "    <tr>\n",
       "      <th>2</th>\n",
       "      <td>0.11</td>\n",
       "      <td>272</td>\n",
       "      <td>0</td>\n",
       "      <td>0</td>\n",
       "      <td>1</td>\n",
       "    </tr>\n",
       "    <tr>\n",
       "      <th>3</th>\n",
       "      <td>0.72</td>\n",
       "      <td>223</td>\n",
       "      <td>0</td>\n",
       "      <td>1</td>\n",
       "      <td>0</td>\n",
       "    </tr>\n",
       "    <tr>\n",
       "      <th>4</th>\n",
       "      <td>0.37</td>\n",
       "      <td>159</td>\n",
       "      <td>0</td>\n",
       "      <td>1</td>\n",
       "      <td>0</td>\n",
       "    </tr>\n",
       "    <tr>\n",
       "      <th>...</th>\n",
       "      <td>...</td>\n",
       "      <td>...</td>\n",
       "      <td>...</td>\n",
       "      <td>...</td>\n",
       "      <td>...</td>\n",
       "    </tr>\n",
       "    <tr>\n",
       "      <th>14994</th>\n",
       "      <td>0.40</td>\n",
       "      <td>151</td>\n",
       "      <td>0</td>\n",
       "      <td>1</td>\n",
       "      <td>0</td>\n",
       "    </tr>\n",
       "    <tr>\n",
       "      <th>14995</th>\n",
       "      <td>0.37</td>\n",
       "      <td>160</td>\n",
       "      <td>0</td>\n",
       "      <td>1</td>\n",
       "      <td>0</td>\n",
       "    </tr>\n",
       "    <tr>\n",
       "      <th>14996</th>\n",
       "      <td>0.37</td>\n",
       "      <td>143</td>\n",
       "      <td>0</td>\n",
       "      <td>1</td>\n",
       "      <td>0</td>\n",
       "    </tr>\n",
       "    <tr>\n",
       "      <th>14997</th>\n",
       "      <td>0.11</td>\n",
       "      <td>280</td>\n",
       "      <td>0</td>\n",
       "      <td>1</td>\n",
       "      <td>0</td>\n",
       "    </tr>\n",
       "    <tr>\n",
       "      <th>14998</th>\n",
       "      <td>0.37</td>\n",
       "      <td>158</td>\n",
       "      <td>0</td>\n",
       "      <td>1</td>\n",
       "      <td>0</td>\n",
       "    </tr>\n",
       "  </tbody>\n",
       "</table>\n",
       "<p>14999 rows × 5 columns</p>\n",
       "</div>"
      ],
      "text/plain": [
       "       satisfaction_level  average_montly_hours  promotion_last_5years  low  \\\n",
       "0                    0.38                   157                      0    1   \n",
       "1                    0.80                   262                      0    0   \n",
       "2                    0.11                   272                      0    0   \n",
       "3                    0.72                   223                      0    1   \n",
       "4                    0.37                   159                      0    1   \n",
       "...                   ...                   ...                    ...  ...   \n",
       "14994                0.40                   151                      0    1   \n",
       "14995                0.37                   160                      0    1   \n",
       "14996                0.37                   143                      0    1   \n",
       "14997                0.11                   280                      0    1   \n",
       "14998                0.37                   158                      0    1   \n",
       "\n",
       "       medium  \n",
       "0           0  \n",
       "1           1  \n",
       "2           1  \n",
       "3           0  \n",
       "4           0  \n",
       "...       ...  \n",
       "14994       0  \n",
       "14995       0  \n",
       "14996       0  \n",
       "14997       0  \n",
       "14998       0  \n",
       "\n",
       "[14999 rows x 5 columns]"
      ]
     },
     "execution_count": 18,
     "metadata": {},
     "output_type": "execute_result"
    }
   ],
   "source": [
    "final=merged.drop(['salary','high'],axis='columns')\n",
    "final"
   ]
  },
  {
   "cell_type": "code",
   "execution_count": 19,
   "id": "f10d2338",
   "metadata": {
    "execution": {
     "iopub.execute_input": "2023-04-07T16:35:41.423220Z",
     "iopub.status.busy": "2023-04-07T16:35:41.422810Z",
     "iopub.status.idle": "2023-04-07T16:35:41.438054Z",
     "shell.execute_reply": "2023-04-07T16:35:41.436889Z"
    },
    "papermill": {
     "duration": 0.034247,
     "end_time": "2023-04-07T16:35:41.440471",
     "exception": false,
     "start_time": "2023-04-07T16:35:41.406224",
     "status": "completed"
    },
    "tags": []
   },
   "outputs": [
    {
     "data": {
      "text/html": [
       "<div>\n",
       "<style scoped>\n",
       "    .dataframe tbody tr th:only-of-type {\n",
       "        vertical-align: middle;\n",
       "    }\n",
       "\n",
       "    .dataframe tbody tr th {\n",
       "        vertical-align: top;\n",
       "    }\n",
       "\n",
       "    .dataframe thead th {\n",
       "        text-align: right;\n",
       "    }\n",
       "</style>\n",
       "<table border=\"1\" class=\"dataframe\">\n",
       "  <thead>\n",
       "    <tr style=\"text-align: right;\">\n",
       "      <th></th>\n",
       "      <th>satisfaction_level</th>\n",
       "      <th>average_montly_hours</th>\n",
       "      <th>promotion_last_5years</th>\n",
       "      <th>low</th>\n",
       "      <th>medium</th>\n",
       "    </tr>\n",
       "  </thead>\n",
       "  <tbody>\n",
       "    <tr>\n",
       "      <th>0</th>\n",
       "      <td>0.38</td>\n",
       "      <td>157</td>\n",
       "      <td>0</td>\n",
       "      <td>1</td>\n",
       "      <td>0</td>\n",
       "    </tr>\n",
       "    <tr>\n",
       "      <th>1</th>\n",
       "      <td>0.80</td>\n",
       "      <td>262</td>\n",
       "      <td>0</td>\n",
       "      <td>0</td>\n",
       "      <td>1</td>\n",
       "    </tr>\n",
       "    <tr>\n",
       "      <th>2</th>\n",
       "      <td>0.11</td>\n",
       "      <td>272</td>\n",
       "      <td>0</td>\n",
       "      <td>0</td>\n",
       "      <td>1</td>\n",
       "    </tr>\n",
       "    <tr>\n",
       "      <th>3</th>\n",
       "      <td>0.72</td>\n",
       "      <td>223</td>\n",
       "      <td>0</td>\n",
       "      <td>1</td>\n",
       "      <td>0</td>\n",
       "    </tr>\n",
       "    <tr>\n",
       "      <th>4</th>\n",
       "      <td>0.37</td>\n",
       "      <td>159</td>\n",
       "      <td>0</td>\n",
       "      <td>1</td>\n",
       "      <td>0</td>\n",
       "    </tr>\n",
       "    <tr>\n",
       "      <th>...</th>\n",
       "      <td>...</td>\n",
       "      <td>...</td>\n",
       "      <td>...</td>\n",
       "      <td>...</td>\n",
       "      <td>...</td>\n",
       "    </tr>\n",
       "    <tr>\n",
       "      <th>14994</th>\n",
       "      <td>0.40</td>\n",
       "      <td>151</td>\n",
       "      <td>0</td>\n",
       "      <td>1</td>\n",
       "      <td>0</td>\n",
       "    </tr>\n",
       "    <tr>\n",
       "      <th>14995</th>\n",
       "      <td>0.37</td>\n",
       "      <td>160</td>\n",
       "      <td>0</td>\n",
       "      <td>1</td>\n",
       "      <td>0</td>\n",
       "    </tr>\n",
       "    <tr>\n",
       "      <th>14996</th>\n",
       "      <td>0.37</td>\n",
       "      <td>143</td>\n",
       "      <td>0</td>\n",
       "      <td>1</td>\n",
       "      <td>0</td>\n",
       "    </tr>\n",
       "    <tr>\n",
       "      <th>14997</th>\n",
       "      <td>0.11</td>\n",
       "      <td>280</td>\n",
       "      <td>0</td>\n",
       "      <td>1</td>\n",
       "      <td>0</td>\n",
       "    </tr>\n",
       "    <tr>\n",
       "      <th>14998</th>\n",
       "      <td>0.37</td>\n",
       "      <td>158</td>\n",
       "      <td>0</td>\n",
       "      <td>1</td>\n",
       "      <td>0</td>\n",
       "    </tr>\n",
       "  </tbody>\n",
       "</table>\n",
       "<p>14999 rows × 5 columns</p>\n",
       "</div>"
      ],
      "text/plain": [
       "       satisfaction_level  average_montly_hours  promotion_last_5years  low  \\\n",
       "0                    0.38                   157                      0    1   \n",
       "1                    0.80                   262                      0    0   \n",
       "2                    0.11                   272                      0    0   \n",
       "3                    0.72                   223                      0    1   \n",
       "4                    0.37                   159                      0    1   \n",
       "...                   ...                   ...                    ...  ...   \n",
       "14994                0.40                   151                      0    1   \n",
       "14995                0.37                   160                      0    1   \n",
       "14996                0.37                   143                      0    1   \n",
       "14997                0.11                   280                      0    1   \n",
       "14998                0.37                   158                      0    1   \n",
       "\n",
       "       medium  \n",
       "0           0  \n",
       "1           1  \n",
       "2           1  \n",
       "3           0  \n",
       "4           0  \n",
       "...       ...  \n",
       "14994       0  \n",
       "14995       0  \n",
       "14996       0  \n",
       "14997       0  \n",
       "14998       0  \n",
       "\n",
       "[14999 rows x 5 columns]"
      ]
     },
     "execution_count": 19,
     "metadata": {},
     "output_type": "execute_result"
    }
   ],
   "source": [
    "x=final\n",
    "x"
   ]
  },
  {
   "cell_type": "code",
   "execution_count": 20,
   "id": "205beee4",
   "metadata": {
    "execution": {
     "iopub.execute_input": "2023-04-07T16:35:41.473245Z",
     "iopub.status.busy": "2023-04-07T16:35:41.472792Z",
     "iopub.status.idle": "2023-04-07T16:35:41.478201Z",
     "shell.execute_reply": "2023-04-07T16:35:41.477159Z"
    },
    "papermill": {
     "duration": 0.02433,
     "end_time": "2023-04-07T16:35:41.480534",
     "exception": false,
     "start_time": "2023-04-07T16:35:41.456204",
     "status": "completed"
    },
    "tags": []
   },
   "outputs": [],
   "source": [
    "y=df.left"
   ]
  },
  {
   "cell_type": "code",
   "execution_count": 21,
   "id": "3b3ca383",
   "metadata": {
    "execution": {
     "iopub.execute_input": "2023-04-07T16:35:41.513213Z",
     "iopub.status.busy": "2023-04-07T16:35:41.512771Z",
     "iopub.status.idle": "2023-04-07T16:35:42.498057Z",
     "shell.execute_reply": "2023-04-07T16:35:42.496858Z"
    },
    "papermill": {
     "duration": 1.004941,
     "end_time": "2023-04-07T16:35:42.500730",
     "exception": false,
     "start_time": "2023-04-07T16:35:41.495789",
     "status": "completed"
    },
    "tags": []
   },
   "outputs": [],
   "source": [
    "from sklearn.linear_model import LogisticRegression\n",
    "reg=LogisticRegression()\n"
   ]
  },
  {
   "cell_type": "code",
   "execution_count": 22,
   "id": "ddcca310",
   "metadata": {
    "execution": {
     "iopub.execute_input": "2023-04-07T16:35:42.534006Z",
     "iopub.status.busy": "2023-04-07T16:35:42.533585Z",
     "iopub.status.idle": "2023-04-07T16:35:42.544255Z",
     "shell.execute_reply": "2023-04-07T16:35:42.543054Z"
    },
    "papermill": {
     "duration": 0.030388,
     "end_time": "2023-04-07T16:35:42.546503",
     "exception": false,
     "start_time": "2023-04-07T16:35:42.516115",
     "status": "completed"
    },
    "tags": []
   },
   "outputs": [],
   "source": [
    "from sklearn.model_selection import train_test_split\n",
    "x_train,x_test,y_train,y_test=train_test_split(x,y,train_size=0.8)"
   ]
  },
  {
   "cell_type": "code",
   "execution_count": 23,
   "id": "4642f41b",
   "metadata": {
    "execution": {
     "iopub.execute_input": "2023-04-07T16:35:42.579302Z",
     "iopub.status.busy": "2023-04-07T16:35:42.578884Z",
     "iopub.status.idle": "2023-04-07T16:35:42.771172Z",
     "shell.execute_reply": "2023-04-07T16:35:42.769484Z"
    },
    "papermill": {
     "duration": 0.212993,
     "end_time": "2023-04-07T16:35:42.775231",
     "exception": false,
     "start_time": "2023-04-07T16:35:42.562238",
     "status": "completed"
    },
    "tags": []
   },
   "outputs": [
    {
     "data": {
      "text/plain": [
       "LogisticRegression()"
      ]
     },
     "execution_count": 23,
     "metadata": {},
     "output_type": "execute_result"
    }
   ],
   "source": [
    "reg.fit(x_train,y_train)"
   ]
  },
  {
   "cell_type": "code",
   "execution_count": 24,
   "id": "903f78a4",
   "metadata": {
    "execution": {
     "iopub.execute_input": "2023-04-07T16:35:42.857263Z",
     "iopub.status.busy": "2023-04-07T16:35:42.856509Z",
     "iopub.status.idle": "2023-04-07T16:35:42.880787Z",
     "shell.execute_reply": "2023-04-07T16:35:42.879188Z"
    },
    "papermill": {
     "duration": 0.070805,
     "end_time": "2023-04-07T16:35:42.885657",
     "exception": false,
     "start_time": "2023-04-07T16:35:42.814852",
     "status": "completed"
    },
    "tags": []
   },
   "outputs": [
    {
     "data": {
      "text/plain": [
       "0.7751479289940828"
      ]
     },
     "execution_count": 24,
     "metadata": {},
     "output_type": "execute_result"
    }
   ],
   "source": [
    "reg.score(x_train,y_train)"
   ]
  },
  {
   "cell_type": "code",
   "execution_count": 25,
   "id": "a098849d",
   "metadata": {
    "execution": {
     "iopub.execute_input": "2023-04-07T16:35:42.969701Z",
     "iopub.status.busy": "2023-04-07T16:35:42.968990Z",
     "iopub.status.idle": "2023-04-07T16:35:43.052445Z",
     "shell.execute_reply": "2023-04-07T16:35:43.051409Z"
    },
    "papermill": {
     "duration": 0.12839,
     "end_time": "2023-04-07T16:35:43.055160",
     "exception": false,
     "start_time": "2023-04-07T16:35:42.926770",
     "status": "completed"
    },
    "tags": []
   },
   "outputs": [],
   "source": [
    "from sklearn.datasets import load_iris\n",
    "iris=load_iris()"
   ]
  },
  {
   "cell_type": "code",
   "execution_count": 26,
   "id": "7647ce79",
   "metadata": {
    "execution": {
     "iopub.execute_input": "2023-04-07T16:35:43.090099Z",
     "iopub.status.busy": "2023-04-07T16:35:43.089287Z",
     "iopub.status.idle": "2023-04-07T16:35:43.096514Z",
     "shell.execute_reply": "2023-04-07T16:35:43.095528Z"
    },
    "papermill": {
     "duration": 0.027487,
     "end_time": "2023-04-07T16:35:43.098879",
     "exception": false,
     "start_time": "2023-04-07T16:35:43.071392",
     "status": "completed"
    },
    "tags": []
   },
   "outputs": [
    {
     "data": {
      "text/plain": [
       "['DESCR',\n",
       " 'data',\n",
       " 'data_module',\n",
       " 'feature_names',\n",
       " 'filename',\n",
       " 'frame',\n",
       " 'target',\n",
       " 'target_names']"
      ]
     },
     "execution_count": 26,
     "metadata": {},
     "output_type": "execute_result"
    }
   ],
   "source": [
    "dir(iris)"
   ]
  },
  {
   "cell_type": "code",
   "execution_count": 27,
   "id": "60ce91ee",
   "metadata": {
    "execution": {
     "iopub.execute_input": "2023-04-07T16:35:43.131857Z",
     "iopub.status.busy": "2023-04-07T16:35:43.131050Z",
     "iopub.status.idle": "2023-04-07T16:35:43.138446Z",
     "shell.execute_reply": "2023-04-07T16:35:43.137337Z"
    },
    "papermill": {
     "duration": 0.026701,
     "end_time": "2023-04-07T16:35:43.140734",
     "exception": false,
     "start_time": "2023-04-07T16:35:43.114033",
     "status": "completed"
    },
    "tags": []
   },
   "outputs": [
    {
     "data": {
      "text/plain": [
       "['DESCR',\n",
       " 'data',\n",
       " 'data_module',\n",
       " 'feature_names',\n",
       " 'filename',\n",
       " 'frame',\n",
       " 'target',\n",
       " 'target_names']"
      ]
     },
     "execution_count": 27,
     "metadata": {},
     "output_type": "execute_result"
    }
   ],
   "source": [
    "dir(iris)"
   ]
  },
  {
   "cell_type": "code",
   "execution_count": 28,
   "id": "b91d08c0",
   "metadata": {
    "execution": {
     "iopub.execute_input": "2023-04-07T16:35:43.175330Z",
     "iopub.status.busy": "2023-04-07T16:35:43.174509Z",
     "iopub.status.idle": "2023-04-07T16:35:43.181968Z",
     "shell.execute_reply": "2023-04-07T16:35:43.181064Z"
    },
    "papermill": {
     "duration": 0.027858,
     "end_time": "2023-04-07T16:35:43.184227",
     "exception": false,
     "start_time": "2023-04-07T16:35:43.156369",
     "status": "completed"
    },
    "tags": []
   },
   "outputs": [
    {
     "data": {
      "text/plain": [
       "array([4.9, 3. , 1.4, 0.2])"
      ]
     },
     "execution_count": 28,
     "metadata": {},
     "output_type": "execute_result"
    }
   ],
   "source": [
    "iris.data[1]"
   ]
  },
  {
   "cell_type": "code",
   "execution_count": 29,
   "id": "20458c16",
   "metadata": {
    "execution": {
     "iopub.execute_input": "2023-04-07T16:35:43.217703Z",
     "iopub.status.busy": "2023-04-07T16:35:43.216868Z",
     "iopub.status.idle": "2023-04-07T16:35:43.223750Z",
     "shell.execute_reply": "2023-04-07T16:35:43.222923Z"
    },
    "papermill": {
     "duration": 0.026147,
     "end_time": "2023-04-07T16:35:43.225986",
     "exception": false,
     "start_time": "2023-04-07T16:35:43.199839",
     "status": "completed"
    },
    "tags": []
   },
   "outputs": [
    {
     "data": {
      "text/plain": [
       "['sepal length (cm)',\n",
       " 'sepal width (cm)',\n",
       " 'petal length (cm)',\n",
       " 'petal width (cm)']"
      ]
     },
     "execution_count": 29,
     "metadata": {},
     "output_type": "execute_result"
    }
   ],
   "source": [
    "iris.feature_names"
   ]
  },
  {
   "cell_type": "code",
   "execution_count": 30,
   "id": "3c6cf58e",
   "metadata": {
    "execution": {
     "iopub.execute_input": "2023-04-07T16:35:43.259324Z",
     "iopub.status.busy": "2023-04-07T16:35:43.258938Z",
     "iopub.status.idle": "2023-04-07T16:35:43.265454Z",
     "shell.execute_reply": "2023-04-07T16:35:43.264382Z"
    },
    "papermill": {
     "duration": 0.02618,
     "end_time": "2023-04-07T16:35:43.267963",
     "exception": false,
     "start_time": "2023-04-07T16:35:43.241783",
     "status": "completed"
    },
    "tags": []
   },
   "outputs": [
    {
     "data": {
      "text/plain": [
       "'iris.csv'"
      ]
     },
     "execution_count": 30,
     "metadata": {},
     "output_type": "execute_result"
    }
   ],
   "source": [
    "iris.filename"
   ]
  },
  {
   "cell_type": "code",
   "execution_count": 31,
   "id": "020f454f",
   "metadata": {
    "execution": {
     "iopub.execute_input": "2023-04-07T16:35:43.301305Z",
     "iopub.status.busy": "2023-04-07T16:35:43.300889Z",
     "iopub.status.idle": "2023-04-07T16:35:43.308676Z",
     "shell.execute_reply": "2023-04-07T16:35:43.307419Z"
    },
    "papermill": {
     "duration": 0.027055,
     "end_time": "2023-04-07T16:35:43.310901",
     "exception": false,
     "start_time": "2023-04-07T16:35:43.283846",
     "status": "completed"
    },
    "tags": []
   },
   "outputs": [
    {
     "data": {
      "text/plain": [
       "array([0, 0, 0, 0, 0, 0, 0, 0, 0, 0, 0, 0, 0, 0, 0, 0, 0, 0, 0, 0, 0, 0,\n",
       "       0, 0, 0, 0, 0, 0, 0, 0, 0, 0, 0, 0, 0, 0, 0, 0, 0, 0, 0, 0, 0, 0,\n",
       "       0, 0, 0, 0, 0, 0, 1, 1, 1, 1, 1, 1, 1, 1, 1, 1, 1, 1, 1, 1, 1, 1,\n",
       "       1, 1, 1, 1, 1, 1, 1, 1, 1, 1, 1, 1, 1, 1, 1, 1, 1, 1, 1, 1, 1, 1,\n",
       "       1, 1, 1, 1, 1, 1, 1, 1, 1, 1, 1, 1, 2, 2, 2, 2, 2, 2, 2, 2, 2, 2,\n",
       "       2, 2, 2, 2, 2, 2, 2, 2, 2, 2, 2, 2, 2, 2, 2, 2, 2, 2, 2, 2, 2, 2,\n",
       "       2, 2, 2, 2, 2, 2, 2, 2, 2, 2, 2, 2, 2, 2, 2, 2, 2, 2])"
      ]
     },
     "execution_count": 31,
     "metadata": {},
     "output_type": "execute_result"
    }
   ],
   "source": [
    "iris.target"
   ]
  },
  {
   "cell_type": "code",
   "execution_count": 32,
   "id": "1cabf6c3",
   "metadata": {
    "execution": {
     "iopub.execute_input": "2023-04-07T16:35:43.345505Z",
     "iopub.status.busy": "2023-04-07T16:35:43.344564Z",
     "iopub.status.idle": "2023-04-07T16:35:43.351496Z",
     "shell.execute_reply": "2023-04-07T16:35:43.350389Z"
    },
    "papermill": {
     "duration": 0.026435,
     "end_time": "2023-04-07T16:35:43.353639",
     "exception": false,
     "start_time": "2023-04-07T16:35:43.327204",
     "status": "completed"
    },
    "tags": []
   },
   "outputs": [
    {
     "data": {
      "text/plain": [
       "array(['setosa', 'versicolor', 'virginica'], dtype='<U10')"
      ]
     },
     "execution_count": 32,
     "metadata": {},
     "output_type": "execute_result"
    }
   ],
   "source": [
    "iris.target_names"
   ]
  },
  {
   "cell_type": "code",
   "execution_count": 33,
   "id": "3fca42e7",
   "metadata": {
    "execution": {
     "iopub.execute_input": "2023-04-07T16:35:43.387510Z",
     "iopub.status.busy": "2023-04-07T16:35:43.387081Z",
     "iopub.status.idle": "2023-04-07T16:35:43.393286Z",
     "shell.execute_reply": "2023-04-07T16:35:43.392121Z"
    },
    "papermill": {
     "duration": 0.02605,
     "end_time": "2023-04-07T16:35:43.395609",
     "exception": false,
     "start_time": "2023-04-07T16:35:43.369559",
     "status": "completed"
    },
    "tags": []
   },
   "outputs": [],
   "source": [
    "from sklearn.model_selection import train_test_split\n",
    "x_train,x_test,y_train,y_test=train_test_split(iris.data,iris.target,test_size=0.2)"
   ]
  },
  {
   "cell_type": "code",
   "execution_count": 34,
   "id": "5666bd02",
   "metadata": {
    "execution": {
     "iopub.execute_input": "2023-04-07T16:35:43.430173Z",
     "iopub.status.busy": "2023-04-07T16:35:43.429439Z",
     "iopub.status.idle": "2023-04-07T16:35:43.435323Z",
     "shell.execute_reply": "2023-04-07T16:35:43.434504Z"
    },
    "papermill": {
     "duration": 0.025586,
     "end_time": "2023-04-07T16:35:43.437403",
     "exception": false,
     "start_time": "2023-04-07T16:35:43.411817",
     "status": "completed"
    },
    "tags": []
   },
   "outputs": [
    {
     "data": {
      "text/plain": [
       "array([6.6, 3. , 4.4, 1.4])"
      ]
     },
     "execution_count": 34,
     "metadata": {},
     "output_type": "execute_result"
    }
   ],
   "source": [
    "x_train[1]"
   ]
  },
  {
   "cell_type": "code",
   "execution_count": 35,
   "id": "02862f4e",
   "metadata": {
    "execution": {
     "iopub.execute_input": "2023-04-07T16:35:43.472129Z",
     "iopub.status.busy": "2023-04-07T16:35:43.471687Z",
     "iopub.status.idle": "2023-04-07T16:35:43.478217Z",
     "shell.execute_reply": "2023-04-07T16:35:43.477325Z"
    },
    "papermill": {
     "duration": 0.026487,
     "end_time": "2023-04-07T16:35:43.480220",
     "exception": false,
     "start_time": "2023-04-07T16:35:43.453733",
     "status": "completed"
    },
    "tags": []
   },
   "outputs": [
    {
     "data": {
      "text/plain": [
       "array([2, 1, 0, 2, 0, 1, 2, 0, 2, 0, 2, 2, 2, 2, 2, 0, 2, 2, 1, 0, 2, 2,\n",
       "       1, 2, 2, 1, 1, 1, 1, 0, 1, 0, 0, 1, 2, 0, 0, 0, 1, 2, 2, 2, 0, 0,\n",
       "       2, 1, 2, 1, 2, 1, 1, 0, 1, 1, 1, 0, 2, 2, 2, 0, 1, 0, 1, 0, 2, 0,\n",
       "       1, 2, 2, 1, 0, 1, 2, 1, 2, 2, 0, 0, 0, 1, 1, 1, 2, 0, 2, 1, 1, 1,\n",
       "       1, 2, 1, 2, 0, 0, 2, 1, 0, 2, 0, 2, 1, 0, 0, 1, 0, 0, 0, 2, 0, 1,\n",
       "       2, 1, 0, 1, 1, 0, 1, 0, 0, 0])"
      ]
     },
     "execution_count": 35,
     "metadata": {},
     "output_type": "execute_result"
    }
   ],
   "source": [
    "y_train"
   ]
  },
  {
   "cell_type": "code",
   "execution_count": 36,
   "id": "95393ad8",
   "metadata": {
    "execution": {
     "iopub.execute_input": "2023-04-07T16:35:43.515885Z",
     "iopub.status.busy": "2023-04-07T16:35:43.515222Z",
     "iopub.status.idle": "2023-04-07T16:35:43.557468Z",
     "shell.execute_reply": "2023-04-07T16:35:43.556103Z"
    },
    "papermill": {
     "duration": 0.06286,
     "end_time": "2023-04-07T16:35:43.559651",
     "exception": false,
     "start_time": "2023-04-07T16:35:43.496791",
     "status": "completed"
    },
    "tags": []
   },
   "outputs": [
    {
     "name": "stderr",
     "output_type": "stream",
     "text": [
      "/opt/conda/lib/python3.7/site-packages/sklearn/linear_model/_logistic.py:818: ConvergenceWarning: lbfgs failed to converge (status=1):\n",
      "STOP: TOTAL NO. of ITERATIONS REACHED LIMIT.\n",
      "\n",
      "Increase the number of iterations (max_iter) or scale the data as shown in:\n",
      "    https://scikit-learn.org/stable/modules/preprocessing.html\n",
      "Please also refer to the documentation for alternative solver options:\n",
      "    https://scikit-learn.org/stable/modules/linear_model.html#logistic-regression\n",
      "  extra_warning_msg=_LOGISTIC_SOLVER_CONVERGENCE_MSG,\n"
     ]
    },
    {
     "data": {
      "text/plain": [
       "LogisticRegression()"
      ]
     },
     "execution_count": 36,
     "metadata": {},
     "output_type": "execute_result"
    }
   ],
   "source": [
    "from sklearn.linear_model import LogisticRegression\n",
    "reg=LogisticRegression()\n",
    "reg.fit(x_train,y_train)"
   ]
  },
  {
   "cell_type": "code",
   "execution_count": 37,
   "id": "e758da11",
   "metadata": {
    "execution": {
     "iopub.execute_input": "2023-04-07T16:35:43.594748Z",
     "iopub.status.busy": "2023-04-07T16:35:43.593563Z",
     "iopub.status.idle": "2023-04-07T16:35:43.602275Z",
     "shell.execute_reply": "2023-04-07T16:35:43.601024Z"
    },
    "papermill": {
     "duration": 0.028476,
     "end_time": "2023-04-07T16:35:43.604432",
     "exception": false,
     "start_time": "2023-04-07T16:35:43.575956",
     "status": "completed"
    },
    "tags": []
   },
   "outputs": [
    {
     "data": {
      "text/plain": [
       "0.9666666666666667"
      ]
     },
     "execution_count": 37,
     "metadata": {},
     "output_type": "execute_result"
    }
   ],
   "source": [
    "reg.score(x_train,y_train)"
   ]
  },
  {
   "cell_type": "code",
   "execution_count": 38,
   "id": "0cad0de8",
   "metadata": {
    "execution": {
     "iopub.execute_input": "2023-04-07T16:35:43.639919Z",
     "iopub.status.busy": "2023-04-07T16:35:43.639525Z",
     "iopub.status.idle": "2023-04-07T16:35:43.646255Z",
     "shell.execute_reply": "2023-04-07T16:35:43.645159Z"
    },
    "papermill": {
     "duration": 0.027494,
     "end_time": "2023-04-07T16:35:43.648728",
     "exception": false,
     "start_time": "2023-04-07T16:35:43.621234",
     "status": "completed"
    },
    "tags": []
   },
   "outputs": [
    {
     "data": {
      "text/plain": [
       "array([2, 0, 0, 1, 2, 1, 2, 2, 1, 1, 0, 0, 1, 0, 2, 2, 0, 2, 0, 2, 1, 1,\n",
       "       0, 1, 0, 2, 1, 0, 2, 1])"
      ]
     },
     "execution_count": 38,
     "metadata": {},
     "output_type": "execute_result"
    }
   ],
   "source": [
    "y_test"
   ]
  },
  {
   "cell_type": "code",
   "execution_count": 39,
   "id": "1d0bf817",
   "metadata": {
    "execution": {
     "iopub.execute_input": "2023-04-07T16:35:43.683708Z",
     "iopub.status.busy": "2023-04-07T16:35:43.683309Z",
     "iopub.status.idle": "2023-04-07T16:35:43.688417Z",
     "shell.execute_reply": "2023-04-07T16:35:43.687179Z"
    },
    "papermill": {
     "duration": 0.025457,
     "end_time": "2023-04-07T16:35:43.690656",
     "exception": false,
     "start_time": "2023-04-07T16:35:43.665199",
     "status": "completed"
    },
    "tags": []
   },
   "outputs": [],
   "source": [
    "y_predicted=reg.predict(x_test)"
   ]
  },
  {
   "cell_type": "code",
   "execution_count": 40,
   "id": "64ebf254",
   "metadata": {
    "execution": {
     "iopub.execute_input": "2023-04-07T16:35:43.725763Z",
     "iopub.status.busy": "2023-04-07T16:35:43.725344Z",
     "iopub.status.idle": "2023-04-07T16:35:43.733660Z",
     "shell.execute_reply": "2023-04-07T16:35:43.732572Z"
    },
    "papermill": {
     "duration": 0.028442,
     "end_time": "2023-04-07T16:35:43.735794",
     "exception": false,
     "start_time": "2023-04-07T16:35:43.707352",
     "status": "completed"
    },
    "tags": []
   },
   "outputs": [
    {
     "data": {
      "text/plain": [
       "array([[10,  0,  0],\n",
       "       [ 0, 10,  0],\n",
       "       [ 0,  1,  9]])"
      ]
     },
     "execution_count": 40,
     "metadata": {},
     "output_type": "execute_result"
    }
   ],
   "source": [
    "from sklearn.metrics import confusion_matrix\n",
    "cm = confusion_matrix(y_test,y_predicted)\n",
    "cm"
   ]
  },
  {
   "cell_type": "code",
   "execution_count": 41,
   "id": "47543d38",
   "metadata": {
    "execution": {
     "iopub.execute_input": "2023-04-07T16:35:43.770744Z",
     "iopub.status.busy": "2023-04-07T16:35:43.770357Z",
     "iopub.status.idle": "2023-04-07T16:35:45.878305Z",
     "shell.execute_reply": "2023-04-07T16:35:45.877142Z"
    },
    "papermill": {
     "duration": 2.128236,
     "end_time": "2023-04-07T16:35:45.880668",
     "exception": false,
     "start_time": "2023-04-07T16:35:43.752432",
     "status": "completed"
    },
    "tags": []
   },
   "outputs": [
    {
     "data": {
      "text/plain": [
       "Text(95.72222222222221, 0.5, 'Truth')"
      ]
     },
     "execution_count": 41,
     "metadata": {},
     "output_type": "execute_result"
    },
    {
     "data": {
      "image/png": "[encoded data removed]",
      "text/plain": [
       "<Figure size 1000x700 with 2 Axes>"
      ]
     },
     "metadata": {},
     "output_type": "display_data"
    }
   ],
   "source": [
    "import seaborn as sn\n",
    "plt.figure(figsize=(10,7))\n",
    "sn.heatmap(cm,annot=True)\n",
    "plt.xlabel('Predicted')\n",
    "plt.ylabel('Truth')"
   ]
  }
 ],
 "metadata": {
  "kernelspec": {
   "display_name": "Python 3",
   "language": "python",
   "name": "python3"
  },
  "language_info": {
   "codemirror_mode": {
    "name": "ipython",
    "version": 3
   },
   "file_extension": ".py",
   "mimetype": "text/x-python",
   "name": "python",
   "nbconvert_exporter": "python",
   "pygments_lexer": "ipython3",
   "version": "3.7.12"
  },
  "papermill": {
   "default_parameters": {},
   "duration": 101.617978,
   "end_time": "2023-04-07T16:35:48.518804",
   "environment_variables": {},
   "exception": null,
   "input_path": "__notebook__.ipynb",
   "output_path": "__notebook__.ipynb",
   "parameters": {},
   "start_time": "2023-04-07T16:34:06.900826",
   "version": "2.4.0"
  }
 },
 "nbformat": 4,
 "nbformat_minor": 5
}
