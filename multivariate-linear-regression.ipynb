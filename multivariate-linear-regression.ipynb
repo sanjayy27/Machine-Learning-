{
 "cells": [
  {
   "cell_type": "markdown",
   "id": "f7bbc4cf",
   "metadata": {
    "papermill": {
     "duration": 0.004813,
     "end_time": "2023-04-07T05:35:35.470632",
     "exception": false,
     "start_time": "2023-04-07T05:35:35.465819",
     "status": "completed"
    },
    "tags": []
   },
   "source": [
    "#### Basic Tutorial on **Multivariate Linear Regression**"
   ]
  },
  {
   "cell_type": "code",
   "execution_count": 1,
   "id": "88ebec81",
   "metadata": {
    "execution": {
     "iopub.execute_input": "2023-04-07T05:35:35.480755Z",
     "iopub.status.busy": "2023-04-07T05:35:35.480018Z",
     "iopub.status.idle": "2023-04-07T05:35:46.644508Z",
     "shell.execute_reply": "2023-04-07T05:35:46.642716Z"
    },
    "papermill": {
     "duration": 11.172552,
     "end_time": "2023-04-07T05:35:46.647168",
     "exception": false,
     "start_time": "2023-04-07T05:35:35.474616",
     "status": "completed"
    },
    "tags": []
   },
   "outputs": [
    {
     "name": "stdout",
     "output_type": "stream",
     "text": [
      "Collecting word2number\r\n",
      "  Downloading word2number-1.1.zip (9.7 kB)\r\n",
      "  Preparing metadata (setup.py) ... \u001b[?25l-\b \bdone\r\n",
      "\u001b[?25hBuilding wheels for collected packages: word2number\r\n",
      "  Building wheel for word2number (setup.py) ... \u001b[?25l-\b \bdone\r\n",
      "\u001b[?25h  Created wheel for word2number: filename=word2number-1.1-py3-none-any.whl size=5582 sha256=315b6ff10b6fdba77feb871fe267acc854e8e53dd6b0a0bcc3978d0b888e1f3b\r\n",
      "  Stored in directory: /root/.cache/pip/wheels/0e/e1/0b/575d02bdf2c7ff9c9be5490db69e8d4e2e26b5523e295137eb\r\n",
      "Successfully built word2number\r\n",
      "Installing collected packages: word2number\r\n",
      "Successfully installed word2number-1.1\r\n",
      "\u001b[33mWARNING: Running pip as the 'root' user can result in broken permissions and conflicting behaviour with the system package manager. It is recommended to use a virtual environment instead: https://pip.pypa.io/warnings/venv\u001b[0m\u001b[33m\r\n",
      "\u001b[0mNote: you may need to restart the kernel to use updated packages.\n"
     ]
    }
   ],
   "source": [
    "pip install word2number"
   ]
  },
  {
   "cell_type": "code",
   "execution_count": 2,
   "id": "a73e96d2",
   "metadata": {
    "execution": {
     "iopub.execute_input": "2023-04-07T05:35:46.658545Z",
     "iopub.status.busy": "2023-04-07T05:35:46.658174Z",
     "iopub.status.idle": "2023-04-07T05:35:47.782394Z",
     "shell.execute_reply": "2023-04-07T05:35:47.781346Z"
    },
    "papermill": {
     "duration": 1.133571,
     "end_time": "2023-04-07T05:35:47.785557",
     "exception": false,
     "start_time": "2023-04-07T05:35:46.651986",
     "status": "completed"
    },
    "tags": []
   },
   "outputs": [],
   "source": [
    "import pandas as pd \n",
    "import matplotlib.pyplot as plt \n",
    "from sklearn import linear_model\n",
    "from word2number import w2n\n",
    "import math\n",
    "import warnings\n",
    "warnings.filterwarnings('ignore')"
   ]
  },
  {
   "cell_type": "code",
   "execution_count": 3,
   "id": "dc3b3bb1",
   "metadata": {
    "execution": {
     "iopub.execute_input": "2023-04-07T05:35:47.797108Z",
     "iopub.status.busy": "2023-04-07T05:35:47.796731Z",
     "iopub.status.idle": "2023-04-07T05:35:47.831343Z",
     "shell.execute_reply": "2023-04-07T05:35:47.830313Z"
    },
    "papermill": {
     "duration": 0.04285,
     "end_time": "2023-04-07T05:35:47.833341",
     "exception": false,
     "start_time": "2023-04-07T05:35:47.790491",
     "status": "completed"
    },
    "tags": []
   },
   "outputs": [
    {
     "data": {
      "text/html": [
       "<div>\n",
       "<style scoped>\n",
       "    .dataframe tbody tr th:only-of-type {\n",
       "        vertical-align: middle;\n",
       "    }\n",
       "\n",
       "    .dataframe tbody tr th {\n",
       "        vertical-align: top;\n",
       "    }\n",
       "\n",
       "    .dataframe thead th {\n",
       "        text-align: right;\n",
       "    }\n",
       "</style>\n",
       "<table border=\"1\" class=\"dataframe\">\n",
       "  <thead>\n",
       "    <tr style=\"text-align: right;\">\n",
       "      <th></th>\n",
       "      <th>experience</th>\n",
       "      <th>test_score(out of 10)</th>\n",
       "      <th>interview_score(out of 10)</th>\n",
       "      <th>salary($)</th>\n",
       "    </tr>\n",
       "  </thead>\n",
       "  <tbody>\n",
       "    <tr>\n",
       "      <th>0</th>\n",
       "      <td>NaN</td>\n",
       "      <td>8.0</td>\n",
       "      <td>9</td>\n",
       "      <td>50000</td>\n",
       "    </tr>\n",
       "    <tr>\n",
       "      <th>1</th>\n",
       "      <td>NaN</td>\n",
       "      <td>8.0</td>\n",
       "      <td>6</td>\n",
       "      <td>45000</td>\n",
       "    </tr>\n",
       "    <tr>\n",
       "      <th>2</th>\n",
       "      <td>five</td>\n",
       "      <td>6.0</td>\n",
       "      <td>7</td>\n",
       "      <td>60000</td>\n",
       "    </tr>\n",
       "    <tr>\n",
       "      <th>3</th>\n",
       "      <td>two</td>\n",
       "      <td>10.0</td>\n",
       "      <td>10</td>\n",
       "      <td>65000</td>\n",
       "    </tr>\n",
       "    <tr>\n",
       "      <th>4</th>\n",
       "      <td>seven</td>\n",
       "      <td>9.0</td>\n",
       "      <td>6</td>\n",
       "      <td>70000</td>\n",
       "    </tr>\n",
       "    <tr>\n",
       "      <th>5</th>\n",
       "      <td>three</td>\n",
       "      <td>7.0</td>\n",
       "      <td>10</td>\n",
       "      <td>62000</td>\n",
       "    </tr>\n",
       "    <tr>\n",
       "      <th>6</th>\n",
       "      <td>ten</td>\n",
       "      <td>NaN</td>\n",
       "      <td>7</td>\n",
       "      <td>72000</td>\n",
       "    </tr>\n",
       "    <tr>\n",
       "      <th>7</th>\n",
       "      <td>eleven</td>\n",
       "      <td>7.0</td>\n",
       "      <td>8</td>\n",
       "      <td>80000</td>\n",
       "    </tr>\n",
       "  </tbody>\n",
       "</table>\n",
       "</div>"
      ],
      "text/plain": [
       "  experience  test_score(out of 10)  interview_score(out of 10)  salary($)\n",
       "0        NaN                    8.0                           9      50000\n",
       "1        NaN                    8.0                           6      45000\n",
       "2       five                    6.0                           7      60000\n",
       "3        two                   10.0                          10      65000\n",
       "4      seven                    9.0                           6      70000\n",
       "5      three                    7.0                          10      62000\n",
       "6        ten                    NaN                           7      72000\n",
       "7     eleven                    7.0                           8      80000"
      ]
     },
     "execution_count": 3,
     "metadata": {},
     "output_type": "execute_result"
    }
   ],
   "source": [
    "df = pd.read_csv('/kaggle/input/hiring-candidates-multivariate-regression/hiring.csv')\n",
    "df"
   ]
  },
  {
   "cell_type": "code",
   "execution_count": 4,
   "id": "8411672b",
   "metadata": {
    "execution": {
     "iopub.execute_input": "2023-04-07T05:35:47.844849Z",
     "iopub.status.busy": "2023-04-07T05:35:47.844497Z",
     "iopub.status.idle": "2023-04-07T05:35:47.850129Z",
     "shell.execute_reply": "2023-04-07T05:35:47.848844Z"
    },
    "papermill": {
     "duration": 0.014052,
     "end_time": "2023-04-07T05:35:47.852537",
     "exception": false,
     "start_time": "2023-04-07T05:35:47.838485",
     "status": "completed"
    },
    "tags": []
   },
   "outputs": [
    {
     "name": "stdout",
     "output_type": "stream",
     "text": [
      "7\n"
     ]
    }
   ],
   "source": [
    "print(w2n.word_to_num('seven'))"
   ]
  },
  {
   "cell_type": "code",
   "execution_count": 5,
   "id": "d6da7fde",
   "metadata": {
    "execution": {
     "iopub.execute_input": "2023-04-07T05:35:47.864190Z",
     "iopub.status.busy": "2023-04-07T05:35:47.863831Z",
     "iopub.status.idle": "2023-04-07T05:35:47.879869Z",
     "shell.execute_reply": "2023-04-07T05:35:47.878762Z"
    },
    "papermill": {
     "duration": 0.024503,
     "end_time": "2023-04-07T05:35:47.882014",
     "exception": false,
     "start_time": "2023-04-07T05:35:47.857511",
     "status": "completed"
    },
    "tags": []
   },
   "outputs": [
    {
     "data": {
      "text/html": [
       "<div>\n",
       "<style scoped>\n",
       "    .dataframe tbody tr th:only-of-type {\n",
       "        vertical-align: middle;\n",
       "    }\n",
       "\n",
       "    .dataframe tbody tr th {\n",
       "        vertical-align: top;\n",
       "    }\n",
       "\n",
       "    .dataframe thead th {\n",
       "        text-align: right;\n",
       "    }\n",
       "</style>\n",
       "<table border=\"1\" class=\"dataframe\">\n",
       "  <thead>\n",
       "    <tr style=\"text-align: right;\">\n",
       "      <th></th>\n",
       "      <th>experience</th>\n",
       "      <th>test_score(out of 10)</th>\n",
       "      <th>interview_score(out of 10)</th>\n",
       "      <th>salary($)</th>\n",
       "    </tr>\n",
       "  </thead>\n",
       "  <tbody>\n",
       "    <tr>\n",
       "      <th>0</th>\n",
       "      <td>0</td>\n",
       "      <td>8.0</td>\n",
       "      <td>9</td>\n",
       "      <td>50000</td>\n",
       "    </tr>\n",
       "    <tr>\n",
       "      <th>1</th>\n",
       "      <td>0</td>\n",
       "      <td>8.0</td>\n",
       "      <td>6</td>\n",
       "      <td>45000</td>\n",
       "    </tr>\n",
       "    <tr>\n",
       "      <th>2</th>\n",
       "      <td>5</td>\n",
       "      <td>6.0</td>\n",
       "      <td>7</td>\n",
       "      <td>60000</td>\n",
       "    </tr>\n",
       "    <tr>\n",
       "      <th>3</th>\n",
       "      <td>2</td>\n",
       "      <td>10.0</td>\n",
       "      <td>10</td>\n",
       "      <td>65000</td>\n",
       "    </tr>\n",
       "    <tr>\n",
       "      <th>4</th>\n",
       "      <td>7</td>\n",
       "      <td>9.0</td>\n",
       "      <td>6</td>\n",
       "      <td>70000</td>\n",
       "    </tr>\n",
       "    <tr>\n",
       "      <th>5</th>\n",
       "      <td>3</td>\n",
       "      <td>7.0</td>\n",
       "      <td>10</td>\n",
       "      <td>62000</td>\n",
       "    </tr>\n",
       "    <tr>\n",
       "      <th>6</th>\n",
       "      <td>10</td>\n",
       "      <td>NaN</td>\n",
       "      <td>7</td>\n",
       "      <td>72000</td>\n",
       "    </tr>\n",
       "    <tr>\n",
       "      <th>7</th>\n",
       "      <td>11</td>\n",
       "      <td>7.0</td>\n",
       "      <td>8</td>\n",
       "      <td>80000</td>\n",
       "    </tr>\n",
       "  </tbody>\n",
       "</table>\n",
       "</div>"
      ],
      "text/plain": [
       "   experience  test_score(out of 10)  interview_score(out of 10)  salary($)\n",
       "0           0                    8.0                           9      50000\n",
       "1           0                    8.0                           6      45000\n",
       "2           5                    6.0                           7      60000\n",
       "3           2                   10.0                          10      65000\n",
       "4           7                    9.0                           6      70000\n",
       "5           3                    7.0                          10      62000\n",
       "6          10                    NaN                           7      72000\n",
       "7          11                    7.0                           8      80000"
      ]
     },
     "execution_count": 5,
     "metadata": {},
     "output_type": "execute_result"
    }
   ],
   "source": [
    "df['experience'] = df['experience'].fillna('zero') # Converting nan values to 0\n",
    "df.experience = df.experience.apply(w2n.word_to_num) # Using apply function to convert numerical characters to numerical variables \n",
    "df"
   ]
  },
  {
   "cell_type": "code",
   "execution_count": 6,
   "id": "8dbc2abc",
   "metadata": {
    "execution": {
     "iopub.execute_input": "2023-04-07T05:35:47.894142Z",
     "iopub.status.busy": "2023-04-07T05:35:47.893734Z",
     "iopub.status.idle": "2023-04-07T05:35:47.899317Z",
     "shell.execute_reply": "2023-04-07T05:35:47.898276Z"
    },
    "papermill": {
     "duration": 0.014249,
     "end_time": "2023-04-07T05:35:47.901395",
     "exception": false,
     "start_time": "2023-04-07T05:35:47.887146",
     "status": "completed"
    },
    "tags": []
   },
   "outputs": [],
   "source": [
    "df = df.rename(columns={'test_score(out of 10)':'test_score'})"
   ]
  },
  {
   "cell_type": "code",
   "execution_count": 7,
   "id": "f530bf01",
   "metadata": {
    "execution": {
     "iopub.execute_input": "2023-04-07T05:35:47.913106Z",
     "iopub.status.busy": "2023-04-07T05:35:47.912735Z",
     "iopub.status.idle": "2023-04-07T05:35:47.919838Z",
     "shell.execute_reply": "2023-04-07T05:35:47.918844Z"
    },
    "papermill": {
     "duration": 0.015506,
     "end_time": "2023-04-07T05:35:47.922001",
     "exception": false,
     "start_time": "2023-04-07T05:35:47.906495",
     "status": "completed"
    },
    "tags": []
   },
   "outputs": [
    {
     "data": {
      "text/plain": [
       "Index(['experience', 'test_score', 'interview_score(out of 10)', 'salary($)'], dtype='object')"
      ]
     },
     "execution_count": 7,
     "metadata": {},
     "output_type": "execute_result"
    }
   ],
   "source": [
    "df.columns"
   ]
  },
  {
   "cell_type": "code",
   "execution_count": 8,
   "id": "8c78d189",
   "metadata": {
    "execution": {
     "iopub.execute_input": "2023-04-07T05:35:47.934188Z",
     "iopub.status.busy": "2023-04-07T05:35:47.933807Z",
     "iopub.status.idle": "2023-04-07T05:35:47.944845Z",
     "shell.execute_reply": "2023-04-07T05:35:47.943747Z"
    },
    "papermill": {
     "duration": 0.019651,
     "end_time": "2023-04-07T05:35:47.946951",
     "exception": false,
     "start_time": "2023-04-07T05:35:47.927300",
     "status": "completed"
    },
    "tags": []
   },
   "outputs": [
    {
     "data": {
      "text/html": [
       "<div>\n",
       "<style scoped>\n",
       "    .dataframe tbody tr th:only-of-type {\n",
       "        vertical-align: middle;\n",
       "    }\n",
       "\n",
       "    .dataframe tbody tr th {\n",
       "        vertical-align: top;\n",
       "    }\n",
       "\n",
       "    .dataframe thead th {\n",
       "        text-align: right;\n",
       "    }\n",
       "</style>\n",
       "<table border=\"1\" class=\"dataframe\">\n",
       "  <thead>\n",
       "    <tr style=\"text-align: right;\">\n",
       "      <th></th>\n",
       "      <th>experience</th>\n",
       "      <th>test_score</th>\n",
       "      <th>interview_score(out of 10)</th>\n",
       "      <th>salary($)</th>\n",
       "    </tr>\n",
       "  </thead>\n",
       "  <tbody>\n",
       "    <tr>\n",
       "      <th>0</th>\n",
       "      <td>0</td>\n",
       "      <td>8.0</td>\n",
       "      <td>9</td>\n",
       "      <td>50000</td>\n",
       "    </tr>\n",
       "    <tr>\n",
       "      <th>1</th>\n",
       "      <td>0</td>\n",
       "      <td>8.0</td>\n",
       "      <td>6</td>\n",
       "      <td>45000</td>\n",
       "    </tr>\n",
       "    <tr>\n",
       "      <th>2</th>\n",
       "      <td>5</td>\n",
       "      <td>6.0</td>\n",
       "      <td>7</td>\n",
       "      <td>60000</td>\n",
       "    </tr>\n",
       "    <tr>\n",
       "      <th>3</th>\n",
       "      <td>2</td>\n",
       "      <td>10.0</td>\n",
       "      <td>10</td>\n",
       "      <td>65000</td>\n",
       "    </tr>\n",
       "    <tr>\n",
       "      <th>4</th>\n",
       "      <td>7</td>\n",
       "      <td>9.0</td>\n",
       "      <td>6</td>\n",
       "      <td>70000</td>\n",
       "    </tr>\n",
       "    <tr>\n",
       "      <th>5</th>\n",
       "      <td>3</td>\n",
       "      <td>7.0</td>\n",
       "      <td>10</td>\n",
       "      <td>62000</td>\n",
       "    </tr>\n",
       "    <tr>\n",
       "      <th>6</th>\n",
       "      <td>10</td>\n",
       "      <td>NaN</td>\n",
       "      <td>7</td>\n",
       "      <td>72000</td>\n",
       "    </tr>\n",
       "    <tr>\n",
       "      <th>7</th>\n",
       "      <td>11</td>\n",
       "      <td>7.0</td>\n",
       "      <td>8</td>\n",
       "      <td>80000</td>\n",
       "    </tr>\n",
       "  </tbody>\n",
       "</table>\n",
       "</div>"
      ],
      "text/plain": [
       "   experience  test_score  interview_score(out of 10)  salary($)\n",
       "0           0         8.0                           9      50000\n",
       "1           0         8.0                           6      45000\n",
       "2           5         6.0                           7      60000\n",
       "3           2        10.0                          10      65000\n",
       "4           7         9.0                           6      70000\n",
       "5           3         7.0                          10      62000\n",
       "6          10         NaN                           7      72000\n",
       "7          11         7.0                           8      80000"
      ]
     },
     "execution_count": 8,
     "metadata": {},
     "output_type": "execute_result"
    }
   ],
   "source": [
    "df"
   ]
  },
  {
   "cell_type": "code",
   "execution_count": 9,
   "id": "255de959",
   "metadata": {
    "execution": {
     "iopub.execute_input": "2023-04-07T05:35:47.959046Z",
     "iopub.status.busy": "2023-04-07T05:35:47.958705Z",
     "iopub.status.idle": "2023-04-07T05:35:47.966244Z",
     "shell.execute_reply": "2023-04-07T05:35:47.965099Z"
    },
    "papermill": {
     "duration": 0.016215,
     "end_time": "2023-04-07T05:35:47.968415",
     "exception": false,
     "start_time": "2023-04-07T05:35:47.952200",
     "status": "completed"
    },
    "tags": []
   },
   "outputs": [
    {
     "data": {
      "text/plain": [
       "7"
      ]
     },
     "execution_count": 9,
     "metadata": {},
     "output_type": "execute_result"
    }
   ],
   "source": [
    "median_test_score = math.floor(df.test_score.mean())\n",
    "median_test_score"
   ]
  },
  {
   "cell_type": "code",
   "execution_count": 10,
   "id": "4ea66f76",
   "metadata": {
    "execution": {
     "iopub.execute_input": "2023-04-07T05:35:47.980759Z",
     "iopub.status.busy": "2023-04-07T05:35:47.980439Z",
     "iopub.status.idle": "2023-04-07T05:35:47.986261Z",
     "shell.execute_reply": "2023-04-07T05:35:47.985111Z"
    },
    "papermill": {
     "duration": 0.014281,
     "end_time": "2023-04-07T05:35:47.988052",
     "exception": false,
     "start_time": "2023-04-07T05:35:47.973771",
     "status": "completed"
    },
    "tags": []
   },
   "outputs": [],
   "source": [
    "df['test_score'] = df['test_score'].fillna(median_test_score) "
   ]
  },
  {
   "cell_type": "code",
   "execution_count": 11,
   "id": "f9ea773c",
   "metadata": {
    "execution": {
     "iopub.execute_input": "2023-04-07T05:35:48.001801Z",
     "iopub.status.busy": "2023-04-07T05:35:48.001405Z",
     "iopub.status.idle": "2023-04-07T05:35:48.006830Z",
     "shell.execute_reply": "2023-04-07T05:35:48.006046Z"
    },
    "papermill": {
     "duration": 0.014427,
     "end_time": "2023-04-07T05:35:48.008725",
     "exception": false,
     "start_time": "2023-04-07T05:35:47.994298",
     "status": "completed"
    },
    "tags": []
   },
   "outputs": [],
   "source": [
    "df=df.rename(columns={'interview_score(out of 10)':'interview_score'})"
   ]
  },
  {
   "cell_type": "code",
   "execution_count": 12,
   "id": "8963c962",
   "metadata": {
    "execution": {
     "iopub.execute_input": "2023-04-07T05:35:48.021841Z",
     "iopub.status.busy": "2023-04-07T05:35:48.021496Z",
     "iopub.status.idle": "2023-04-07T05:35:48.052482Z",
     "shell.execute_reply": "2023-04-07T05:35:48.051756Z"
    },
    "papermill": {
     "duration": 0.040258,
     "end_time": "2023-04-07T05:35:48.054720",
     "exception": false,
     "start_time": "2023-04-07T05:35:48.014462",
     "status": "completed"
    },
    "tags": []
   },
   "outputs": [
    {
     "data": {
      "text/plain": [
       "LinearRegression()"
      ]
     },
     "execution_count": 12,
     "metadata": {},
     "output_type": "execute_result"
    }
   ],
   "source": [
    "reg = linear_model.LinearRegression()\n",
    "reg.fit(df[['experience','test_score','interview_score']],df['salary($)'])"
   ]
  },
  {
   "cell_type": "code",
   "execution_count": 13,
   "id": "0786db97",
   "metadata": {
    "execution": {
     "iopub.execute_input": "2023-04-07T05:35:48.067212Z",
     "iopub.status.busy": "2023-04-07T05:35:48.066869Z",
     "iopub.status.idle": "2023-04-07T05:35:48.072535Z",
     "shell.execute_reply": "2023-04-07T05:35:48.071609Z"
    },
    "papermill": {
     "duration": 0.014243,
     "end_time": "2023-04-07T05:35:48.074401",
     "exception": false,
     "start_time": "2023-04-07T05:35:48.060158",
     "status": "completed"
    },
    "tags": []
   },
   "outputs": [
    {
     "data": {
      "text/plain": [
       "array([2922.26901502, 2221.30909959, 2147.48256637])"
      ]
     },
     "execution_count": 13,
     "metadata": {},
     "output_type": "execute_result"
    }
   ],
   "source": [
    "reg.coef_ #coefficient"
   ]
  },
  {
   "cell_type": "code",
   "execution_count": 14,
   "id": "cde3af75",
   "metadata": {
    "execution": {
     "iopub.execute_input": "2023-04-07T05:35:48.088029Z",
     "iopub.status.busy": "2023-04-07T05:35:48.087686Z",
     "iopub.status.idle": "2023-04-07T05:35:48.093229Z",
     "shell.execute_reply": "2023-04-07T05:35:48.092303Z"
    },
    "papermill": {
     "duration": 0.014373,
     "end_time": "2023-04-07T05:35:48.095211",
     "exception": false,
     "start_time": "2023-04-07T05:35:48.080838",
     "status": "completed"
    },
    "tags": []
   },
   "outputs": [
    {
     "data": {
      "text/plain": [
       "14992.651446693155"
      ]
     },
     "execution_count": 14,
     "metadata": {},
     "output_type": "execute_result"
    }
   ],
   "source": [
    "reg.intercept_ #intercept"
   ]
  },
  {
   "cell_type": "code",
   "execution_count": 15,
   "id": "e8c713ab",
   "metadata": {
    "execution": {
     "iopub.execute_input": "2023-04-07T05:35:48.108722Z",
     "iopub.status.busy": "2023-04-07T05:35:48.107689Z",
     "iopub.status.idle": "2023-04-07T05:35:48.115242Z",
     "shell.execute_reply": "2023-04-07T05:35:48.114210Z"
    },
    "papermill": {
     "duration": 0.01642,
     "end_time": "2023-04-07T05:35:48.117197",
     "exception": false,
     "start_time": "2023-04-07T05:35:48.100777",
     "status": "completed"
    },
    "tags": []
   },
   "outputs": [
    {
     "data": {
      "text/plain": [
       "array([53713.86677124])"
      ]
     },
     "execution_count": 15,
     "metadata": {},
     "output_type": "execute_result"
    }
   ],
   "source": [
    "reg.predict([[2,9,6]])"
   ]
  },
  {
   "cell_type": "code",
   "execution_count": 16,
   "id": "dc27a9bd",
   "metadata": {
    "execution": {
     "iopub.execute_input": "2023-04-07T05:35:48.130393Z",
     "iopub.status.busy": "2023-04-07T05:35:48.130056Z",
     "iopub.status.idle": "2023-04-07T05:35:48.137390Z",
     "shell.execute_reply": "2023-04-07T05:35:48.136142Z"
    },
    "papermill": {
     "duration": 0.016523,
     "end_time": "2023-04-07T05:35:48.139530",
     "exception": false,
     "start_time": "2023-04-07T05:35:48.123007",
     "status": "completed"
    },
    "tags": []
   },
   "outputs": [
    {
     "data": {
      "text/plain": [
       "array([93747.79628651])"
      ]
     },
     "execution_count": 16,
     "metadata": {},
     "output_type": "execute_result"
    }
   ],
   "source": [
    "reg.predict([[12,10,10]])"
   ]
  }
 ],
 "metadata": {
  "kernelspec": {
   "display_name": "Python 3",
   "language": "python",
   "name": "python3"
  },
  "language_info": {
   "codemirror_mode": {
    "name": "ipython",
    "version": 3
   },
   "file_extension": ".py",
   "mimetype": "text/x-python",
   "name": "python",
   "nbconvert_exporter": "python",
   "pygments_lexer": "ipython3",
   "version": "3.7.12"
  },
  "papermill": {
   "default_parameters": {},
   "duration": 22.054736,
   "end_time": "2023-04-07T05:35:48.867022",
   "environment_variables": {},
   "exception": null,
   "input_path": "__notebook__.ipynb",
   "output_path": "__notebook__.ipynb",
   "parameters": {},
   "start_time": "2023-04-07T05:35:26.812286",
   "version": "2.4.0"
  }
 },
 "nbformat": 4,
 "nbformat_minor": 5
}
